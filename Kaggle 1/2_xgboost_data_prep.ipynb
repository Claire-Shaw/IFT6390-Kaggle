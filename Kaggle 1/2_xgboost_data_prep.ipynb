{
 "cells": [
  {
   "cell_type": "code",
   "execution_count": 16,
   "metadata": {},
   "outputs": [],
   "source": [
    "import pandas as pd\n",
    "import seaborn as sns\n",
    "from sklearn.model_selection import train_test_split"
   ]
  },
  {
   "cell_type": "code",
   "execution_count": 17,
   "metadata": {},
   "outputs": [],
   "source": [
    "train_raw = pd.read_csv(\"data/train.csv\")\n"
   ]
  },
  {
   "cell_type": "markdown",
   "metadata": {},
   "source": [
    "First we will split our training data into 'train' and 'eval'. This allows us to have a holdout set to benchmark ourselves as we develop our solution.\n",
    "Here we chose to hold out 20% of our training data for eval purposes"
   ]
  },
  {
   "cell_type": "code",
   "execution_count": 18,
   "metadata": {},
   "outputs": [
    {
     "name": "stdout",
     "output_type": "stream",
     "text": [
      "(35808, 20)\n",
      "Label\n",
      "0    28360\n",
      "2     6123\n",
      "1     1325\n",
      "Name: count, dtype: int64\n",
      "(8952, 20)\n",
      "Label\n",
      "0    6819\n",
      "2    1633\n",
      "1     500\n",
      "Name: count, dtype: int64\n"
     ]
    }
   ],
   "source": [
    "train_raw = train_raw.drop(columns=['SNo'])\n",
    "train, eval = train_test_split(train_raw.sort_values(by='time'), train_size=0.8, shuffle=False)\n",
    "print(train.shape)\n",
    "print(train['Label'].value_counts())\n",
    "print(eval.shape)\n",
    "print(eval['Label'].value_counts())"
   ]
  },
  {
   "cell_type": "code",
   "execution_count": 19,
   "metadata": {},
   "outputs": [],
   "source": [
    "import pandas as pd\n",
    "import numpy as np\n",
    "from scipy import stats\n",
    "from imblearn.combine import SMOTETomek, SMOTEENN\n",
    "\n",
    "    \n",
    "def data_preprocessing_1(df, sampling_technique=None):\n",
    "\n",
    "    feature_names = [x for x in df.columns if x != 'Label']\n",
    "\n",
    "    print(f'Labels before subsampling')\n",
    "    print(df['Label'].value_counts())\n",
    "\n",
    "    if sampling_technique == 'remove_dups':\n",
    "        sampled_df = df.groupby(feature_names, as_index=False).agg({'Label': lambda x:stats.mode(x)[0]}).copy().reset_index(drop=True)\n",
    "        X_df = sampled_df[feature_names]\n",
    "        y_df = sampled_df['Label']\n",
    "\n",
    "    elif sampling_technique == 'SMOTE-TOMEK':\n",
    "        smo_tek = SMOTETomek(random_state=0)\n",
    "        X_df, y_df = smo_tek.fit_resample(df.drop(columns=['Label']), df['Label'])\n",
    "\n",
    "    elif sampling_technique == 'SMOTE-ENN':\n",
    "        smo_een = SMOTEENN(random_state=0)\n",
    "        X_df, y_df = smo_een.fit_resample(df.drop(columns=['Label']), df['Label'])\n",
    "    else:\n",
    "        print('invalid/no sampling technique specified')\n",
    "        X_df = df[feature_names]\n",
    "        y_df = df['Label']\n",
    "    \n",
    "    print(f'Labels after subsampling')\n",
    "    print(y_df.value_counts())\n",
    "\n",
    "\n",
    "    return X_df, y_df"
   ]
  },
  {
   "cell_type": "code",
   "execution_count": 20,
   "metadata": {},
   "outputs": [
    {
     "name": "stdout",
     "output_type": "stream",
     "text": [
      "-----BASELINE-----\n",
      "Labels before subsampling\n",
      "Label\n",
      "0    28360\n",
      "2     6123\n",
      "1     1325\n",
      "Name: count, dtype: int64\n",
      "invalid/no sampling technique specified\n",
      "Labels after subsampling\n",
      "Label\n",
      "0    28360\n",
      "2     6123\n",
      "1     1325\n",
      "Name: count, dtype: int64\n",
      "\n",
      "-----NO DUPLICATES-----\n",
      "Labels before subsampling\n",
      "Label\n",
      "0    28360\n",
      "2     6123\n",
      "1     1325\n",
      "Name: count, dtype: int64\n",
      "Labels after subsampling\n",
      "Label\n",
      "0    12718\n",
      "2     2091\n",
      "1      479\n",
      "Name: count, dtype: int64\n",
      "\n",
      "-----SMOTE-TOMEK-----\n",
      "Labels before subsampling\n",
      "Label\n",
      "0    28360\n",
      "2     6123\n",
      "1     1325\n",
      "Name: count, dtype: int64\n",
      "Labels after subsampling\n",
      "Label\n",
      "0    28345\n",
      "1    28317\n",
      "2    28316\n",
      "Name: count, dtype: int64\n",
      "\n",
      "-----SMOTE-ENN-----\n",
      "Labels before subsampling\n",
      "Label\n",
      "0    28360\n",
      "2     6123\n",
      "1     1325\n",
      "Name: count, dtype: int64\n",
      "Labels after subsampling\n",
      "Label\n",
      "0    24275\n",
      "1    22987\n",
      "2    18936\n",
      "Name: count, dtype: int64\n"
     ]
    }
   ],
   "source": [
    "print('-----BASELINE-----')\n",
    "X_baseline, y_baseline = data_preprocessing_1(train, sampling_technique=None)\n",
    "print('\\n-----NO DUPLICATES-----')\n",
    "X_nodups, y_nodups = data_preprocessing_1(train, sampling_technique='remove_dups')\n",
    "print('\\n-----SMOTE-TOMEK-----')\n",
    "X_smo_tomek, y_smo_tomek = data_preprocessing_1(train, sampling_technique='SMOTE-TOMEK')\n",
    "print('\\n-----SMOTE-ENN-----')\n",
    "X_smo_enn, y_smo_enn = data_preprocessing_1(train, sampling_technique='SMOTE-ENN')\n",
    "\n",
    "y_eval = eval['Label']\n",
    "X_eval = eval.drop(columns=['Label'])\n"
   ]
  },
  {
   "cell_type": "code",
   "execution_count": 21,
   "metadata": {},
   "outputs": [],
   "source": [
    "from sklearn.metrics import classification_report"
   ]
  },
  {
   "cell_type": "code",
   "execution_count": 22,
   "metadata": {},
   "outputs": [
    {
     "name": "stdout",
     "output_type": "stream",
     "text": [
      "-----BASELINE-----\n"
     ]
    },
    {
     "name": "stdout",
     "output_type": "stream",
     "text": [
      "              precision    recall  f1-score   support\n",
      "\n",
      "           0     0.8249    0.8692    0.8465      6819\n",
      "           1     0.5893    0.3760    0.4591       500\n",
      "           2     0.4613    0.4091    0.4336      1633\n",
      "\n",
      "    accuracy                         0.7577      8952\n",
      "   macro avg     0.6252    0.5514    0.5797      8952\n",
      "weighted avg     0.7454    0.7577    0.7495      8952\n",
      "\n"
     ]
    }
   ],
   "source": [
    "from xgboost import XGBClassifier\n",
    "\n",
    "print('-----BASELINE-----')\n",
    "xgb_baseline = XGBClassifier()\n",
    "xgb_baseline.fit(X_baseline, y_baseline)\n",
    "xgb_baseline_preds = xgb_baseline.predict(X_eval)\n",
    "print(classification_report(y_eval, xgb_baseline_preds, digits=4)) "
   ]
  },
  {
   "cell_type": "code",
   "execution_count": 23,
   "metadata": {},
   "outputs": [
    {
     "name": "stdout",
     "output_type": "stream",
     "text": [
      "-----NO DUPLICATES-----\n",
      "              precision    recall  f1-score   support\n",
      "\n",
      "           0     0.8279    0.9010    0.8629      6819\n",
      "           1     0.5452    0.4700    0.5048       500\n",
      "           2     0.5373    0.3619    0.4325      1633\n",
      "\n",
      "    accuracy                         0.7786      8952\n",
      "   macro avg     0.6368    0.5776    0.6001      8952\n",
      "weighted avg     0.7591    0.7786    0.7644      8952\n",
      "\n"
     ]
    }
   ],
   "source": [
    "print('-----NO DUPLICATES-----')\n",
    "xgb_nodups = XGBClassifier()\n",
    "xgb_nodups.fit(X_nodups, y_nodups)\n",
    "xgb_nodups_preds = xgb_nodups.predict(X_eval)\n",
    "print(classification_report(y_eval, xgb_nodups_preds, digits=4)) "
   ]
  },
  {
   "cell_type": "code",
   "execution_count": 24,
   "metadata": {},
   "outputs": [
    {
     "name": "stdout",
     "output_type": "stream",
     "text": [
      "-----SMOTE-TOMEK-----\n"
     ]
    },
    {
     "name": "stdout",
     "output_type": "stream",
     "text": [
      "              precision    recall  f1-score   support\n",
      "\n",
      "           0     0.8238    0.8619    0.8424      6819\n",
      "           1     0.4879    0.3620    0.4156       500\n",
      "           2     0.4616    0.4091    0.4338      1633\n",
      "\n",
      "    accuracy                         0.7513      8952\n",
      "   macro avg     0.5911    0.5443    0.5639      8952\n",
      "weighted avg     0.7390    0.7513    0.7440      8952\n",
      "\n"
     ]
    }
   ],
   "source": [
    "print('-----SMOTE-TOMEK-----')\n",
    "xgb_smo_tomek = XGBClassifier()\n",
    "xgb_smo_tomek.fit(X_smo_tomek, y_smo_tomek)\n",
    "xgb_smo_tomek_preds = xgb_smo_tomek.predict(X_eval)\n",
    "print(classification_report(y_eval, xgb_smo_tomek_preds, digits=4)) "
   ]
  },
  {
   "cell_type": "code",
   "execution_count": 25,
   "metadata": {},
   "outputs": [
    {
     "name": "stdout",
     "output_type": "stream",
     "text": [
      "-----SMOTE-ENN-----\n"
     ]
    },
    {
     "name": "stdout",
     "output_type": "stream",
     "text": [
      "              precision    recall  f1-score   support\n",
      "\n",
      "           0     0.8387    0.8557    0.8471      6819\n",
      "           1     0.5047    0.4300    0.4644       500\n",
      "           2     0.4895    0.4703    0.4797      1633\n",
      "\n",
      "    accuracy                         0.7616      8952\n",
      "   macro avg     0.6110    0.5853    0.5971      8952\n",
      "weighted avg     0.7564    0.7616    0.7587      8952\n",
      "\n"
     ]
    }
   ],
   "source": [
    "print('-----SMOTE-ENN-----')\n",
    "xgb_smo_enn = XGBClassifier()\n",
    "xgb_smo_enn.fit(X_smo_enn, y_smo_enn)\n",
    "xgb_smo_enn_preds = xgb_smo_enn.predict(X_eval)\n",
    "print(classification_report(y_eval, xgb_smo_enn_preds, digits=4)) "
   ]
  },
  {
   "cell_type": "markdown",
   "metadata": {},
   "source": [
    "It seems that the duplicate removal data prep is best for our particular dataset. We will use this data from this point forward"
   ]
  },
  {
   "cell_type": "markdown",
   "metadata": {},
   "source": [
    "<!-- Because SMOTE creates synthetic training samples based on the given dataset, it is not appropriate to use for k-folding without some modification in order to ensure that synthetic examples are not used to evaluate the model -->"
   ]
  },
  {
   "cell_type": "code",
   "execution_count": 27,
   "metadata": {},
   "outputs": [
    {
     "name": "stdout",
     "output_type": "stream",
     "text": [
      "Accuracy: [0.6135157777157219, 0.656660150795867, 0.7922368053616309, 0.7880184331797235, 0.7845273006563329]\n",
      "Mean: 0.7269916935418552\n",
      "F-score macro: [0.4822316670246429, 0.5105879967678238, 0.5322200925131368, 0.6374296698513221, 0.45389788873950004]\n",
      "Mean: 0.5232734629792851\n",
      "F-score weighted: [0.6460151515905849, 0.6850807811306017, 0.7603842626553591, 0.7926805520286536, 0.7184123367537526]\n",
      "Mean: 0.7205146168317904\n"
     ]
    }
   ],
   "source": [
    "from sklearn.metrics import accuracy_score, f1_score\n",
    "from sklearn.model_selection import StratifiedKFold\n",
    "\n",
    "cv = StratifiedKFold(n_splits=5)\n",
    "\n",
    "accuracies = []\n",
    "f1_macros = []\n",
    "f1_weighted = []\n",
    "\n",
    "\n",
    "for train_idx, test_idx, in cv.split(X_baseline, y_baseline):\n",
    "    X_train, X_test = X_baseline.iloc[train_idx], X_baseline.iloc[test_idx]\n",
    "    y_train, y_test = y_baseline.iloc[train_idx], y_baseline.iloc[test_idx]\n",
    "    # X_train, y_train = SMOTEENN(random_state=0).fit_resample(X_train, y_train)\n",
    "    model = XGBClassifier()\n",
    "    model.fit(X_train, y_train)  \n",
    "    y_pred = model.predict(X_test)\n",
    "    accuracies.append(model.score(X_test, y_test))\n",
    "    f1_macros.append(f1_score(y_test, y_pred, average=\"macro\"))     \n",
    "    f1_weighted.append(f1_score(y_test, y_pred, average=\"weighted\"))        \n",
    "\n",
    "print(f'Accuracy: {accuracies}')\n",
    "print(f'Mean: {np.mean(accuracies)}')\n",
    "print(f'F-score macro: {f1_macros}')\n",
    "print(f'Mean: {np.mean(f1_macros)}')\n",
    "print(f'F-score weighted: {f1_weighted}')\n",
    "print(f'Mean: {np.mean(f1_weighted)}')"
   ]
  },
  {
   "cell_type": "markdown",
   "metadata": {},
   "source": [
    "# Feature Importance"
   ]
  },
  {
   "cell_type": "markdown",
   "metadata": {},
   "source": [
    "Next we will take a look at feature importance to see if we can create a more generalizable model by dropping the least important features"
   ]
  },
  {
   "cell_type": "code",
   "execution_count": 12,
   "metadata": {},
   "outputs": [
    {
     "data": {
      "text/html": [
       "<div>\n",
       "<style scoped>\n",
       "    .dataframe tbody tr th:only-of-type {\n",
       "        vertical-align: middle;\n",
       "    }\n",
       "\n",
       "    .dataframe tbody tr th {\n",
       "        vertical-align: top;\n",
       "    }\n",
       "\n",
       "    .dataframe thead th {\n",
       "        text-align: right;\n",
       "    }\n",
       "</style>\n",
       "<table border=\"1\" class=\"dataframe\">\n",
       "  <thead>\n",
       "    <tr style=\"text-align: right;\">\n",
       "      <th></th>\n",
       "      <th>Importance</th>\n",
       "    </tr>\n",
       "    <tr>\n",
       "      <th>Feature</th>\n",
       "      <th></th>\n",
       "    </tr>\n",
       "  </thead>\n",
       "  <tbody>\n",
       "    <tr>\n",
       "      <th>PSL</th>\n",
       "      <td>0.471056</td>\n",
       "    </tr>\n",
       "    <tr>\n",
       "      <th>lat</th>\n",
       "      <td>0.158747</td>\n",
       "    </tr>\n",
       "    <tr>\n",
       "      <th>Z1000</th>\n",
       "      <td>0.053003</td>\n",
       "    </tr>\n",
       "    <tr>\n",
       "      <th>TMQ</th>\n",
       "      <td>0.037275</td>\n",
       "    </tr>\n",
       "    <tr>\n",
       "      <th>U850</th>\n",
       "      <td>0.035241</td>\n",
       "    </tr>\n",
       "    <tr>\n",
       "      <th>month</th>\n",
       "      <td>0.024951</td>\n",
       "    </tr>\n",
       "    <tr>\n",
       "      <th>year</th>\n",
       "      <td>0.023366</td>\n",
       "    </tr>\n",
       "    <tr>\n",
       "      <th>Z200</th>\n",
       "      <td>0.021958</td>\n",
       "    </tr>\n",
       "    <tr>\n",
       "      <th>V850</th>\n",
       "      <td>0.019102</td>\n",
       "    </tr>\n",
       "    <tr>\n",
       "      <th>PS</th>\n",
       "      <td>0.018904</td>\n",
       "    </tr>\n",
       "    <tr>\n",
       "      <th>TS</th>\n",
       "      <td>0.017523</td>\n",
       "    </tr>\n",
       "    <tr>\n",
       "      <th>TREFHT</th>\n",
       "      <td>0.016459</td>\n",
       "    </tr>\n",
       "    <tr>\n",
       "      <th>VBOT</th>\n",
       "      <td>0.016076</td>\n",
       "    </tr>\n",
       "    <tr>\n",
       "      <th>UBOT</th>\n",
       "      <td>0.014955</td>\n",
       "    </tr>\n",
       "    <tr>\n",
       "      <th>lon</th>\n",
       "      <td>0.014798</td>\n",
       "    </tr>\n",
       "    <tr>\n",
       "      <th>QREFHT</th>\n",
       "      <td>0.014710</td>\n",
       "    </tr>\n",
       "    <tr>\n",
       "      <th>T200</th>\n",
       "      <td>0.011614</td>\n",
       "    </tr>\n",
       "    <tr>\n",
       "      <th>T500</th>\n",
       "      <td>0.010837</td>\n",
       "    </tr>\n",
       "    <tr>\n",
       "      <th>ZBOT</th>\n",
       "      <td>0.010614</td>\n",
       "    </tr>\n",
       "    <tr>\n",
       "      <th>PRECT</th>\n",
       "      <td>0.008810</td>\n",
       "    </tr>\n",
       "  </tbody>\n",
       "</table>\n",
       "</div>"
      ],
      "text/plain": [
       "         Importance\n",
       "Feature            \n",
       "PSL        0.471056\n",
       "lat        0.158747\n",
       "Z1000      0.053003\n",
       "TMQ        0.037275\n",
       "U850       0.035241\n",
       "month      0.024951\n",
       "year       0.023366\n",
       "Z200       0.021958\n",
       "V850       0.019102\n",
       "PS         0.018904\n",
       "TS         0.017523\n",
       "TREFHT     0.016459\n",
       "VBOT       0.016076\n",
       "UBOT       0.014955\n",
       "lon        0.014798\n",
       "QREFHT     0.014710\n",
       "T200       0.011614\n",
       "T500       0.010837\n",
       "ZBOT       0.010614\n",
       "PRECT      0.008810"
      ]
     },
     "execution_count": 12,
     "metadata": {},
     "output_type": "execute_result"
    }
   ],
   "source": [
    "importances = pd.DataFrame({\n",
    "    'Feature': X_smo_enn.columns,\n",
    "    'Importance': xgb_smo_enn.feature_importances_\n",
    "})\n",
    "importances = importances.sort_values(by='Importance', ascending=False)\n",
    "importances = importances.set_index('Feature')\n",
    "importances"
   ]
  },
  {
   "cell_type": "code",
   "execution_count": 13,
   "metadata": {},
   "outputs": [
    {
     "data": {
      "text/plain": [
       "<Axes: xlabel='Feature'>"
      ]
     },
     "execution_count": 13,
     "metadata": {},
     "output_type": "execute_result"
    },
    {
     "data": {
      "image/png": "[encoded data removed]",
      "text/plain": [
       "<Figure size 640x480 with 1 Axes>"
      ]
     },
     "metadata": {},
     "output_type": "display_data"
    }
   ],
   "source": [
    "importances.plot.bar()"
   ]
  },
  {
   "cell_type": "markdown",
   "metadata": {},
   "source": [
    "We seem to have quite a few columns with very low importance. We will try dropping some and see if this improves performance"
   ]
  },
  {
   "cell_type": "code",
   "execution_count": 21,
   "metadata": {},
   "outputs": [
    {
     "name": "stdout",
     "output_type": "stream",
     "text": [
      "-----SMOTE-ENN - Dropping 2 least important features -----\n",
      "              precision    recall  f1-score   support\n",
      "\n",
      "           0     0.9788    0.8714    0.9220      7036\n",
      "           1     0.6437    0.9452    0.7658       365\n",
      "           2     0.6566    0.9110    0.7632      1551\n",
      "\n",
      "    accuracy                         0.8813      8952\n",
      "   macro avg     0.7597    0.9092    0.8170      8952\n",
      "weighted avg     0.9093    0.8813    0.8881      8952\n",
      "\n",
      "Accuracy: 0.8812555853440572\n"
     ]
    }
   ],
   "source": [
    "print('-----SMOTE-ENN - Dropping 2 least important features -----')\n",
    "features_to_drop_2 = ['T500', 'PRECT']\n",
    "xgb_smo_enn_2_feat_drop = XGBClassifier()\n",
    "xgb_smo_enn_2_feat_drop.fit(X_smo_enn.drop(columns=features_to_drop_2), y_smo_enn)\n",
    "xgb_smo_enn_2_feat_drop_preds = xgb_smo_enn_2_feat_drop.predict(X_eval.drop(columns=features_to_drop_2))\n",
    "print(classification_report(y_eval, xgb_smo_enn_2_feat_drop_preds, digits=4)) \n",
    "print(f'Accuracy: {accuracy_score(y_eval, xgb_smo_enn_2_feat_drop_preds)}')"
   ]
  },
  {
   "cell_type": "code",
   "execution_count": 22,
   "metadata": {},
   "outputs": [
    {
     "name": "stdout",
     "output_type": "stream",
     "text": [
      "-----SMOTE-ENN - Dropping 4 least important features -----\n",
      "              precision    recall  f1-score   support\n",
      "\n",
      "           0     0.9766    0.8729    0.9219      7036\n",
      "           1     0.6460    0.9397    0.7656       365\n",
      "           2     0.6576    0.9039    0.7613      1551\n",
      "\n",
      "    accuracy                         0.8810      8952\n",
      "   macro avg     0.7601    0.9055    0.8163      8952\n",
      "weighted avg     0.9079    0.8810    0.8877      8952\n",
      "\n",
      "Accuracy: 0.8810321715817694\n"
     ]
    }
   ],
   "source": [
    "print('-----SMOTE-ENN - Dropping 4 least important features -----')\n",
    "features_to_drop_4 = ['T200', 'ZBOT', 'T500', 'PRECT']\n",
    "xgb_smo_enn_4_feat_drop = XGBClassifier()\n",
    "xgb_smo_enn_4_feat_drop.fit(X_smo_enn.drop(columns=features_to_drop_4), y_smo_enn)\n",
    "xgb_smo_enn_4_feat_drop_preds = xgb_smo_enn_4_feat_drop.predict(X_eval.drop(columns=features_to_drop_4))\n",
    "print(classification_report(y_eval, xgb_smo_enn_4_feat_drop_preds, digits=4)) \n",
    "print(f'Accuracy: {accuracy_score(y_eval, xgb_smo_enn_4_feat_drop_preds)}')"
   ]
  },
  {
   "cell_type": "code",
   "execution_count": 23,
   "metadata": {},
   "outputs": [
    {
     "name": "stdout",
     "output_type": "stream",
     "text": [
      "-----SMOTE-ENN - Dropping 6 least important features from old run -----\n",
      "              precision    recall  f1-score   support\n",
      "\n",
      "           0     0.9785    0.8731    0.9228      7036\n",
      "           1     0.6450    0.9507    0.7685       365\n",
      "           2     0.6601    0.9091    0.7648      1551\n",
      "\n",
      "    accuracy                         0.8825      8952\n",
      "   macro avg     0.7612    0.9110    0.8187      8952\n",
      "weighted avg     0.9097    0.8825    0.8891      8952\n",
      "\n",
      "Accuracy: 0.8824843610366399\n"
     ]
    }
   ],
   "source": [
    "print('-----SMOTE-ENN - Dropping 6 least important features from old run -----')\n",
    "features_to_drop_6 = ['PS', 'V850', 'T200', 'ZBOT', 'T500', 'PRECT']\n",
    "xgb_smo_enn_6_feat_drop = XGBClassifier()\n",
    "xgb_smo_enn_6_feat_drop.fit(X_smo_enn.drop(columns=features_to_drop_6), y_smo_enn)\n",
    "xgb_smo_enn_6_feat_drop_preds = xgb_smo_enn_6_feat_drop.predict(X_eval.drop(columns=features_to_drop_6))\n",
    "print(classification_report(y_eval, xgb_smo_enn_6_feat_drop_preds, digits=4)) \n",
    "print(f'Accuracy: {accuracy_score(y_eval, xgb_smo_enn_6_feat_drop_preds)}')"
   ]
  },
  {
   "cell_type": "code",
   "execution_count": 24,
   "metadata": {},
   "outputs": [
    {
     "name": "stdout",
     "output_type": "stream",
     "text": [
      "-----SMOTE-ENN - Dropping 8 least important features -----\n",
      "              precision    recall  f1-score   support\n",
      "\n",
      "           0     0.9763    0.8721    0.9213      7036\n",
      "           1     0.6453    0.9370    0.7642       365\n",
      "           2     0.6551    0.9026    0.7592      1551\n",
      "\n",
      "    accuracy                         0.8800      8952\n",
      "   macro avg     0.7589    0.9039    0.8149      8952\n",
      "weighted avg     0.9072    0.8800    0.8868      8952\n",
      "\n",
      "Accuracy: 0.8800268096514745\n"
     ]
    }
   ],
   "source": [
    "print('-----SMOTE-ENN - Dropping 8 least important features -----')\n",
    "features_to_drop_8 = ['UBOT', 'VBOT', 'PS', 'V850', 'T200', 'ZBOT', 'T500', 'PRECT']\n",
    "xgb_smo_enn_8_feat_drop = XGBClassifier()\n",
    "xgb_smo_enn_8_feat_drop.fit(X_smo_enn.drop(columns=features_to_drop_8), y_smo_enn)\n",
    "xgb_smo_enn_8_feat_drop_preds = xgb_smo_enn_8_feat_drop.predict(X_eval.drop(columns=features_to_drop_8))\n",
    "print(classification_report(y_eval, xgb_smo_enn_8_feat_drop_preds, digits=4)) \n",
    "print(f'Accuracy: {accuracy_score(y_eval, xgb_smo_enn_8_feat_drop_preds)}')"
   ]
  },
  {
   "cell_type": "code",
   "execution_count": 25,
   "metadata": {},
   "outputs": [
    {
     "name": "stdout",
     "output_type": "stream",
     "text": [
      "-----SMOTE-ENN - Dropping 10 least important features -----\n",
      "              precision    recall  f1-score   support\n",
      "\n",
      "           0     0.9806    0.8640    0.9186      7036\n",
      "           1     0.6360    0.9479    0.7613       365\n",
      "           2     0.6455    0.9194    0.7585      1551\n",
      "\n",
      "    accuracy                         0.8770      8952\n",
      "   macro avg     0.7541    0.9104    0.8128      8952\n",
      "weighted avg     0.9085    0.8770    0.8845      8952\n",
      "\n",
      "Accuracy: 0.8770107238605898\n"
     ]
    }
   ],
   "source": [
    "print('-----SMOTE-ENN - Dropping 10 least important features -----')\n",
    "features_to_drop_10 = ['lon', 'TS', 'UBOT', 'VBOT', 'PS', 'V850', 'T200', 'ZBOT', 'T500', 'PRECT']\n",
    "xgb_smo_enn_10_feat_drop = XGBClassifier()\n",
    "xgb_smo_enn_10_feat_drop.fit(X_smo_enn.drop(columns=features_to_drop_10), y_smo_enn)\n",
    "xgb_smo_enn_10_feat_drop_preds = xgb_smo_enn_10_feat_drop.predict(X_eval.drop(columns=features_to_drop_10))\n",
    "print(classification_report(y_eval, xgb_smo_enn_10_feat_drop_preds, digits=4)) \n",
    "print(f'Accuracy: {accuracy_score(y_eval, xgb_smo_enn_10_feat_drop_preds)}')"
   ]
  },
  {
   "cell_type": "code",
   "execution_count": 26,
   "metadata": {},
   "outputs": [
    {
     "name": "stdout",
     "output_type": "stream",
     "text": [
      "-----SMOTE-ENN - Dropping 12 least important features -----\n",
      "              precision    recall  f1-score   support\n",
      "\n",
      "           0     0.9795    0.8630    0.9176      7036\n",
      "           1     0.6382    0.9425    0.7611       365\n",
      "           2     0.6409    0.9149    0.7538      1551\n",
      "\n",
      "    accuracy                         0.8752      8952\n",
      "   macro avg     0.7529    0.9068    0.8108      8952\n",
      "weighted avg     0.9069    0.8752    0.8828      8952\n",
      "\n",
      "Accuracy: 0.8752234137622877\n"
     ]
    }
   ],
   "source": [
    "print('-----SMOTE-ENN - Dropping 12 least important features -----')\n",
    "features_to_drop_12 = ['TREFHT', 'QREFHT', 'lon', 'TS', 'UBOT', 'VBOT', 'PS', 'V850', 'T200', 'ZBOT', 'T500', 'PRECT']\n",
    "xgb_smo_enn_12_feat_drop = XGBClassifier()\n",
    "xgb_smo_enn_12_feat_drop.fit(X_smo_enn.drop(columns=features_to_drop_12), y_smo_enn)\n",
    "xgb_smo_enn_12_feat_drop_preds = xgb_smo_enn_12_feat_drop.predict(X_eval.drop(columns=features_to_drop_12))\n",
    "print(classification_report(y_eval, xgb_smo_enn_12_feat_drop_preds, digits=4)) \n",
    "print(f'Accuracy: {accuracy_score(y_eval, xgb_smo_enn_12_feat_drop_preds)}')"
   ]
  },
  {
   "cell_type": "code",
   "execution_count": 27,
   "metadata": {},
   "outputs": [
    {
     "name": "stdout",
     "output_type": "stream",
     "text": [
      "-----SMOTE-ENN - Dropping 13 least important features -----\n",
      "              precision    recall  f1-score   support\n",
      "\n",
      "           0     0.9783    0.8640    0.9176      7036\n",
      "           1     0.6357    0.9370    0.7575       365\n",
      "           2     0.6432    0.9123    0.7545      1551\n",
      "\n",
      "    accuracy                         0.8753      8952\n",
      "   macro avg     0.7524    0.9044    0.8098      8952\n",
      "weighted avg     0.9062    0.8753    0.8828      8952\n",
      "\n",
      "Accuracy: 0.8753351206434317\n"
     ]
    }
   ],
   "source": [
    "print('-----SMOTE-ENN - Dropping 13 least important features -----')\n",
    "features_to_drop_13 = ['Z200', 'TREFHT', 'QREFHT', 'lon', 'TS', 'UBOT', 'VBOT', 'PS', 'V850', 'T200', 'ZBOT', 'T500', 'PRECT']\n",
    "xgb_smo_enn_13_feat_drop = XGBClassifier()\n",
    "xgb_smo_enn_13_feat_drop.fit(X_smo_enn.drop(columns=features_to_drop_13), y_smo_enn)\n",
    "xgb_smo_enn_13_feat_drop_preds = xgb_smo_enn_13_feat_drop.predict(X_eval.drop(columns=features_to_drop_13))\n",
    "print(classification_report(y_eval, xgb_smo_enn_13_feat_drop_preds, digits=4)) \n",
    "print(f'Accuracy: {accuracy_score(y_eval, xgb_smo_enn_13_feat_drop_preds)}')"
   ]
  },
  {
   "cell_type": "code",
   "execution_count": 28,
   "metadata": {},
   "outputs": [
    {
     "name": "stdout",
     "output_type": "stream",
     "text": [
      "-----SMOTE-ENN - Dropping 14 least important features -----\n",
      "              precision    recall  f1-score   support\n",
      "\n",
      "           0     0.9715    0.8610    0.9129      7036\n",
      "           1     0.6195    0.9233    0.7415       365\n",
      "           2     0.6340    0.8878    0.7397      1551\n",
      "\n",
      "    accuracy                         0.8682      8952\n",
      "   macro avg     0.7416    0.8907    0.7980      8952\n",
      "weighted avg     0.8986    0.8682    0.8759      8952\n",
      "\n",
      "Accuracy: 0.8681858802502234\n"
     ]
    }
   ],
   "source": [
    "print('-----SMOTE-ENN - Dropping 14 least important features -----')\n",
    "features_to_drop_14 = ['month', 'Z200', 'TREFHT', 'QREFHT', 'lon', 'TS', 'UBOT', 'VBOT', 'PS', 'V850', 'T200', 'ZBOT', 'T500', 'PRECT']\n",
    "xgb_smo_enn_14_feat_drop = XGBClassifier()\n",
    "xgb_smo_enn_14_feat_drop.fit(X_smo_enn.drop(columns=features_to_drop_14), y_smo_enn)\n",
    "xgb_smo_enn_14_feat_drop_preds = xgb_smo_enn_14_feat_drop.predict(X_eval.drop(columns=features_to_drop_14))\n",
    "print(classification_report(y_eval, xgb_smo_enn_14_feat_drop_preds, digits=4)) \n",
    "print(f'Accuracy: {accuracy_score(y_eval, xgb_smo_enn_14_feat_drop_preds)}')"
   ]
  },
  {
   "cell_type": "code",
   "execution_count": 29,
   "metadata": {},
   "outputs": [],
   "source": [
    "preds = {\n",
    "    0: xgb_smo_enn_preds,\n",
    "    2: xgb_smo_enn_2_feat_drop_preds,\n",
    "    4: xgb_smo_enn_4_feat_drop_preds,\n",
    "    6: xgb_smo_enn_6_feat_drop_preds,\n",
    "    8: xgb_smo_enn_8_feat_drop_preds, \n",
    "    10: xgb_smo_enn_10_feat_drop_preds,\n",
    "    12: xgb_smo_enn_12_feat_drop_preds,\n",
    "    13: xgb_smo_enn_13_feat_drop_preds,\n",
    "    14: xgb_smo_enn_14_feat_drop_preds,\n",
    "}\n",
    "\n",
    "accuracies = [accuracy_score(y_eval, x) for x in preds.values()]\n",
    "f1_macro = [f1_score(y_eval, x, average='macro') for x in preds.values()]\n",
    "f1_weighted = [f1_score(y_eval, x, average='weighted') for x in preds.values()]"
   ]
  },
  {
   "cell_type": "code",
   "execution_count": 30,
   "metadata": {},
   "outputs": [
    {
     "data": {
      "image/png": "[encoded data removed]",
      "text/plain": [
       "<Figure size 640x480 with 1 Axes>"
      ]
     },
     "metadata": {},
     "output_type": "display_data"
    }
   ],
   "source": [
    "import matplotlib.pyplot as plt\n",
    "plt.figure()\n",
    "plt.plot(preds.keys(), accuracies, label='Accuracy')\n",
    "plt.plot(preds.keys(), f1_macro, label='F1 Macro Avg')\n",
    "plt.plot(preds.keys(), f1_weighted, label='F1 Weighted Avg')\n",
    "plt.legend()\n",
    "plt.title('Metrics by features dropped')\n",
    "plt.xlabel('Number of features dropped')\n",
    "plt.grid()\n",
    "plt.show()"
   ]
  },
  {
   "cell_type": "markdown",
   "metadata": {},
   "source": [
    "\n",
    "We could argue that any choice between 4-8 features dropped may be appropriate, as dropping these features does not have a large impact on performance but would result in a less complex model.\n",
    "Beyond 12 features dropped we see a sharp drop in performance, we will not want to go any further than this"
   ]
  },
  {
   "cell_type": "markdown",
   "metadata": {},
   "source": [
    "We choose to go with 6 features dropped"
   ]
  },
  {
   "cell_type": "code",
   "execution_count": 73,
   "metadata": {},
   "outputs": [],
   "source": [
    "features_to_drop =  ['PS', 'V850', 'T200', 'ZBOT', 'T500', 'PRECT']\n",
    "X_train_dropped_feats = X_baseline.drop(columns=features_to_drop)\n",
    "X_eval_dropped_feats = X_eval.drop(columns=features_to_drop)"
   ]
  },
  {
   "cell_type": "code",
   "execution_count": 63,
   "metadata": {},
   "outputs": [
    {
     "name": "stdout",
     "output_type": "stream",
     "text": [
      "Fitting 5 folds for each of 1 candidates, totalling 5 fits\n",
      "[16:28:19] WARNING: C:\\Users\\dev-admin\\croot2\\xgboost-split_1675461376218\\work\\src\\learner.cc:767: \n",
      "Parameters: { \"eval_set\" } are not used.\n",
      "\n",
      "{'XGBClassifier__colsample_bytree': 0.6, 'XGBClassifier__gamma': 0.0, 'XGBClassifier__learning_rate': 0.1, 'XGBClassifier__max_depth': 12, 'XGBClassifier__min_child_weight': 9, 'XGBClassifier__n_estimators': 350, 'XGBClassifier__reg_alpha': 0, 'XGBClassifier__reg_lambda': 1, 'XGBClassifier__subsample': 0.75}\n",
      "0.8731288709308906\n"
     ]
    }
   ],
   "source": [
    "from sklearn.model_selection import GridSearchCV\n",
    "from imblearn.pipeline import Pipeline\n",
    "\n",
    "pipeline = Pipeline(steps=[\n",
    "    (\"SMOTE-ENN\", SMOTEENN(random_state=10)),\n",
    "    (\"XGBClassifier\", XGBClassifier(random_state=10, \n",
    "                                    verbosity=1,\n",
    "                                    eval_set=[X_eval_dropped_feats, y_eval]))\n",
    "])\n",
    "parameters = {\n",
    "    # \"XGBClassifier__n_estimators\": [350],\n",
    "    # \"XGBClassifier__learning_rate\": [0.1],\n",
    "    # Grid Search 1\n",
    "    \"XGBClassifier__max_depth\": [12],\n",
    "    \"XGBClassifier__min_child_weight\": [9],\n",
    "    # Grid Search 2\n",
    "    'XGBClassifier__gamma':[0.0],\n",
    "    # Grid Search 3\n",
    "    'XGBClassifier__subsample':[0.75],\n",
    "    'XGBClassifier__colsample_bytree':[0.6],\n",
    "    # Grid Search 4\n",
    "    'XGBClassifier__reg_alpha':[0],\n",
    "    # Grid Search 5\n",
    "    'XGBClassifier__reg_lambda':[1],\n",
    "    # Grid Search 6\n",
    "    \"XGBClassifier__learning_rate\": [0.1],\n",
    "    \"XGBClassifier__n_estimators\": [350],\n",
    "    }\n",
    "\n",
    "clf = GridSearchCV(pipeline, \n",
    "                   param_grid=parameters,\n",
    "                   verbose=1, \n",
    "                   cv=5, \n",
    "                   n_jobs=-1)\n",
    "\n",
    "clf.fit(X_train_dropped_feats, y_baseline)\n",
    "\n",
    "print(clf.best_params_)\n",
    "print(clf.best_score_)\n",
    "\n",
    "best_model = clf.best_estimator_"
   ]
  },
  {
   "cell_type": "code",
   "execution_count": 74,
   "metadata": {},
   "outputs": [
    {
     "ename": "ValueError",
     "evalue": "Feature shape mismatch, expected: 12, got 14",
     "output_type": "error",
     "traceback": [
      "\u001b[1;31m---------------------------------------------------------------------------\u001b[0m",
      "\u001b[1;31mValueError\u001b[0m                                Traceback (most recent call last)",
      "\u001b[1;32mc:\\Users\\clair\\Documents\\UdeM\\IFT6390\\Kaggle\\Kaggle 1\\test_data_prep.ipynb Cell 35\u001b[0m line \u001b[0;36m1\n\u001b[1;32m----> <a href='vscode-notebook-cell:/c%3A/Users/clair/Documents/UdeM/IFT6390/Kaggle/Kaggle%201/test_data_prep.ipynb#X46sZmlsZQ%3D%3D?line=0'>1</a>\u001b[0m \u001b[39mprint\u001b[39m(classification_report(y_eval, best_model\u001b[39m.\u001b[39;49mpredict(X_eval_dropped_feats), digits\u001b[39m=\u001b[39m\u001b[39m4\u001b[39m))\n",
      "File \u001b[1;32mc:\\Users\\clair\\miniconda3\\envs\\venv_ift6390\\lib\\site-packages\\sklearn\\pipeline.py:508\u001b[0m, in \u001b[0;36mPipeline.predict\u001b[1;34m(self, X, **predict_params)\u001b[0m\n\u001b[0;32m    506\u001b[0m \u001b[39mfor\u001b[39;00m _, name, transform \u001b[39min\u001b[39;00m \u001b[39mself\u001b[39m\u001b[39m.\u001b[39m_iter(with_final\u001b[39m=\u001b[39m\u001b[39mFalse\u001b[39;00m):\n\u001b[0;32m    507\u001b[0m     Xt \u001b[39m=\u001b[39m transform\u001b[39m.\u001b[39mtransform(Xt)\n\u001b[1;32m--> 508\u001b[0m \u001b[39mreturn\u001b[39;00m \u001b[39mself\u001b[39m\u001b[39m.\u001b[39msteps[\u001b[39m-\u001b[39m\u001b[39m1\u001b[39m][\u001b[39m1\u001b[39m]\u001b[39m.\u001b[39mpredict(Xt, \u001b[39m*\u001b[39m\u001b[39m*\u001b[39mpredict_params)\n",
      "File \u001b[1;32mc:\\Users\\clair\\miniconda3\\envs\\venv_ift6390\\lib\\site-packages\\xgboost\\sklearn.py:1525\u001b[0m, in \u001b[0;36mXGBClassifier.predict\u001b[1;34m(self, X, output_margin, ntree_limit, validate_features, base_margin, iteration_range)\u001b[0m\n\u001b[0;32m   1515\u001b[0m \u001b[39mdef\u001b[39;00m \u001b[39mpredict\u001b[39m(\n\u001b[0;32m   1516\u001b[0m     \u001b[39mself\u001b[39m,\n\u001b[0;32m   1517\u001b[0m     X: ArrayLike,\n\u001b[1;32m   (...)\u001b[0m\n\u001b[0;32m   1522\u001b[0m     iteration_range: Optional[Tuple[\u001b[39mint\u001b[39m, \u001b[39mint\u001b[39m]] \u001b[39m=\u001b[39m \u001b[39mNone\u001b[39;00m,\n\u001b[0;32m   1523\u001b[0m ) \u001b[39m-\u001b[39m\u001b[39m>\u001b[39m np\u001b[39m.\u001b[39mndarray:\n\u001b[0;32m   1524\u001b[0m     \u001b[39mwith\u001b[39;00m config_context(verbosity\u001b[39m=\u001b[39m\u001b[39mself\u001b[39m\u001b[39m.\u001b[39mverbosity):\n\u001b[1;32m-> 1525\u001b[0m         class_probs \u001b[39m=\u001b[39m \u001b[39msuper\u001b[39;49m()\u001b[39m.\u001b[39;49mpredict(\n\u001b[0;32m   1526\u001b[0m             X\u001b[39m=\u001b[39;49mX,\n\u001b[0;32m   1527\u001b[0m             output_margin\u001b[39m=\u001b[39;49moutput_margin,\n\u001b[0;32m   1528\u001b[0m             ntree_limit\u001b[39m=\u001b[39;49mntree_limit,\n\u001b[0;32m   1529\u001b[0m             validate_features\u001b[39m=\u001b[39;49mvalidate_features,\n\u001b[0;32m   1530\u001b[0m             base_margin\u001b[39m=\u001b[39;49mbase_margin,\n\u001b[0;32m   1531\u001b[0m             iteration_range\u001b[39m=\u001b[39;49miteration_range,\n\u001b[0;32m   1532\u001b[0m         )\n\u001b[0;32m   1533\u001b[0m         \u001b[39mif\u001b[39;00m output_margin:\n\u001b[0;32m   1534\u001b[0m             \u001b[39m# If output_margin is active, simply return the scores\u001b[39;00m\n\u001b[0;32m   1535\u001b[0m             \u001b[39mreturn\u001b[39;00m class_probs\n",
      "File \u001b[1;32mc:\\Users\\clair\\miniconda3\\envs\\venv_ift6390\\lib\\site-packages\\xgboost\\sklearn.py:1114\u001b[0m, in \u001b[0;36mXGBModel.predict\u001b[1;34m(self, X, output_margin, ntree_limit, validate_features, base_margin, iteration_range)\u001b[0m\n\u001b[0;32m   1112\u001b[0m \u001b[39mif\u001b[39;00m \u001b[39mself\u001b[39m\u001b[39m.\u001b[39m_can_use_inplace_predict():\n\u001b[0;32m   1113\u001b[0m     \u001b[39mtry\u001b[39;00m:\n\u001b[1;32m-> 1114\u001b[0m         predts \u001b[39m=\u001b[39m \u001b[39mself\u001b[39;49m\u001b[39m.\u001b[39;49mget_booster()\u001b[39m.\u001b[39;49minplace_predict(\n\u001b[0;32m   1115\u001b[0m             data\u001b[39m=\u001b[39;49mX,\n\u001b[0;32m   1116\u001b[0m             iteration_range\u001b[39m=\u001b[39;49miteration_range,\n\u001b[0;32m   1117\u001b[0m             predict_type\u001b[39m=\u001b[39;49m\u001b[39m\"\u001b[39;49m\u001b[39mmargin\u001b[39;49m\u001b[39m\"\u001b[39;49m \u001b[39mif\u001b[39;49;00m output_margin \u001b[39melse\u001b[39;49;00m \u001b[39m\"\u001b[39;49m\u001b[39mvalue\u001b[39;49m\u001b[39m\"\u001b[39;49m,\n\u001b[0;32m   1118\u001b[0m             missing\u001b[39m=\u001b[39;49m\u001b[39mself\u001b[39;49m\u001b[39m.\u001b[39;49mmissing,\n\u001b[0;32m   1119\u001b[0m             base_margin\u001b[39m=\u001b[39;49mbase_margin,\n\u001b[0;32m   1120\u001b[0m             validate_features\u001b[39m=\u001b[39;49mvalidate_features,\n\u001b[0;32m   1121\u001b[0m         )\n\u001b[0;32m   1122\u001b[0m         \u001b[39mif\u001b[39;00m _is_cupy_array(predts):\n\u001b[0;32m   1123\u001b[0m             \u001b[39mimport\u001b[39;00m \u001b[39mcupy\u001b[39;00m  \u001b[39m# pylint: disable=import-error\u001b[39;00m\n",
      "File \u001b[1;32mc:\\Users\\clair\\miniconda3\\envs\\venv_ift6390\\lib\\site-packages\\xgboost\\core.py:2268\u001b[0m, in \u001b[0;36mBooster.inplace_predict\u001b[1;34m(self, data, iteration_range, predict_type, missing, validate_features, base_margin, strict_shape)\u001b[0m\n\u001b[0;32m   2264\u001b[0m         \u001b[39mraise\u001b[39;00m \u001b[39mTypeError\u001b[39;00m(\n\u001b[0;32m   2265\u001b[0m             \u001b[39m\"\u001b[39m\u001b[39m`shape` attribute is required when `validate_features` is True.\u001b[39m\u001b[39m\"\u001b[39m\n\u001b[0;32m   2266\u001b[0m         )\n\u001b[0;32m   2267\u001b[0m     \u001b[39mif\u001b[39;00m \u001b[39mlen\u001b[39m(data\u001b[39m.\u001b[39mshape) \u001b[39m!=\u001b[39m \u001b[39m1\u001b[39m \u001b[39mand\u001b[39;00m \u001b[39mself\u001b[39m\u001b[39m.\u001b[39mnum_features() \u001b[39m!=\u001b[39m data\u001b[39m.\u001b[39mshape[\u001b[39m1\u001b[39m]:\n\u001b[1;32m-> 2268\u001b[0m         \u001b[39mraise\u001b[39;00m \u001b[39mValueError\u001b[39;00m(\n\u001b[0;32m   2269\u001b[0m             \u001b[39mf\u001b[39m\u001b[39m\"\u001b[39m\u001b[39mFeature shape mismatch, expected: \u001b[39m\u001b[39m{\u001b[39;00m\u001b[39mself\u001b[39m\u001b[39m.\u001b[39mnum_features()\u001b[39m}\u001b[39;00m\u001b[39m, \u001b[39m\u001b[39m\"\u001b[39m\n\u001b[0;32m   2270\u001b[0m             \u001b[39mf\u001b[39m\u001b[39m\"\u001b[39m\u001b[39mgot \u001b[39m\u001b[39m{\u001b[39;00mdata\u001b[39m.\u001b[39mshape[\u001b[39m1\u001b[39m]\u001b[39m}\u001b[39;00m\u001b[39m\"\u001b[39m\n\u001b[0;32m   2271\u001b[0m         )\n\u001b[0;32m   2273\u001b[0m \u001b[39mfrom\u001b[39;00m \u001b[39m.\u001b[39;00m\u001b[39mdata\u001b[39;00m \u001b[39mimport\u001b[39;00m (\n\u001b[0;32m   2274\u001b[0m     _array_interface,\n\u001b[0;32m   2275\u001b[0m     _is_cudf_df,\n\u001b[1;32m   (...)\u001b[0m\n\u001b[0;32m   2278\u001b[0m     _transform_pandas_df,\n\u001b[0;32m   2279\u001b[0m )\n\u001b[0;32m   2281\u001b[0m enable_categorical \u001b[39m=\u001b[39m _has_categorical(\u001b[39mself\u001b[39m, data)\n",
      "\u001b[1;31mValueError\u001b[0m: Feature shape mismatch, expected: 12, got 14"
     ]
    }
   ],
   "source": [
    "print(classification_report(y_eval, best_model.predict(X_eval_dropped_feats), digits=4))"
   ]
  },
  {
   "cell_type": "markdown",
   "metadata": {},
   "source": [
    "# Predict on Test"
   ]
  },
  {
   "cell_type": "markdown",
   "metadata": {},
   "source": [
    "Train model on all training data using our best hyperparameters"
   ]
  },
  {
   "cell_type": "code",
   "execution_count": 75,
   "metadata": {},
   "outputs": [
    {
     "data": {
      "text/html": [
       "<div>\n",
       "<style scoped>\n",
       "    .dataframe tbody tr th:only-of-type {\n",
       "        vertical-align: middle;\n",
       "    }\n",
       "\n",
       "    .dataframe tbody tr th {\n",
       "        vertical-align: top;\n",
       "    }\n",
       "\n",
       "    .dataframe thead th {\n",
       "        text-align: right;\n",
       "    }\n",
       "</style>\n",
       "<table border=\"1\" class=\"dataframe\">\n",
       "  <thead>\n",
       "    <tr style=\"text-align: right;\">\n",
       "      <th></th>\n",
       "      <th>lat</th>\n",
       "      <th>lon</th>\n",
       "      <th>TMQ</th>\n",
       "      <th>U850</th>\n",
       "      <th>UBOT</th>\n",
       "      <th>VBOT</th>\n",
       "      <th>QREFHT</th>\n",
       "      <th>PSL</th>\n",
       "      <th>TS</th>\n",
       "      <th>TREFHT</th>\n",
       "      <th>Z1000</th>\n",
       "      <th>Z200</th>\n",
       "      <th>year</th>\n",
       "      <th>month</th>\n",
       "    </tr>\n",
       "  </thead>\n",
       "  <tbody>\n",
       "    <tr>\n",
       "      <th>0</th>\n",
       "      <td>-30.391134</td>\n",
       "      <td>354.3750</td>\n",
       "      <td>25.907482</td>\n",
       "      <td>6.662070</td>\n",
       "      <td>-7.432653</td>\n",
       "      <td>-3.936030</td>\n",
       "      <td>0.010624</td>\n",
       "      <td>101532.5391</td>\n",
       "      <td>290.697632</td>\n",
       "      <td>290.039947</td>\n",
       "      <td>129.814316</td>\n",
       "      <td>11948.68848</td>\n",
       "      <td>2010</td>\n",
       "      <td>10</td>\n",
       "    </tr>\n",
       "    <tr>\n",
       "      <th>1</th>\n",
       "      <td>-30.391134</td>\n",
       "      <td>354.3750</td>\n",
       "      <td>25.907482</td>\n",
       "      <td>6.662070</td>\n",
       "      <td>-7.432653</td>\n",
       "      <td>-3.936030</td>\n",
       "      <td>0.010624</td>\n",
       "      <td>101532.5391</td>\n",
       "      <td>290.697632</td>\n",
       "      <td>290.039947</td>\n",
       "      <td>129.814316</td>\n",
       "      <td>11948.68848</td>\n",
       "      <td>2010</td>\n",
       "      <td>10</td>\n",
       "    </tr>\n",
       "    <tr>\n",
       "      <th>2</th>\n",
       "      <td>-31.095176</td>\n",
       "      <td>354.3750</td>\n",
       "      <td>27.019733</td>\n",
       "      <td>4.951319</td>\n",
       "      <td>-7.286631</td>\n",
       "      <td>-3.150316</td>\n",
       "      <td>0.010890</td>\n",
       "      <td>101513.0234</td>\n",
       "      <td>290.372650</td>\n",
       "      <td>289.940613</td>\n",
       "      <td>128.204788</td>\n",
       "      <td>11931.06738</td>\n",
       "      <td>2010</td>\n",
       "      <td>10</td>\n",
       "    </tr>\n",
       "    <tr>\n",
       "      <th>3</th>\n",
       "      <td>-31.095176</td>\n",
       "      <td>354.3750</td>\n",
       "      <td>27.019733</td>\n",
       "      <td>4.951319</td>\n",
       "      <td>-7.286631</td>\n",
       "      <td>-3.150316</td>\n",
       "      <td>0.010890</td>\n",
       "      <td>101513.0234</td>\n",
       "      <td>290.372650</td>\n",
       "      <td>289.940613</td>\n",
       "      <td>128.204788</td>\n",
       "      <td>11931.06738</td>\n",
       "      <td>2010</td>\n",
       "      <td>10</td>\n",
       "    </tr>\n",
       "    <tr>\n",
       "      <th>4</th>\n",
       "      <td>-30.860495</td>\n",
       "      <td>354.3750</td>\n",
       "      <td>26.516499</td>\n",
       "      <td>5.362008</td>\n",
       "      <td>-7.257047</td>\n",
       "      <td>-2.907396</td>\n",
       "      <td>0.010821</td>\n",
       "      <td>101505.1484</td>\n",
       "      <td>290.697632</td>\n",
       "      <td>290.041351</td>\n",
       "      <td>127.552147</td>\n",
       "      <td>11936.12500</td>\n",
       "      <td>2010</td>\n",
       "      <td>10</td>\n",
       "    </tr>\n",
       "    <tr>\n",
       "      <th>...</th>\n",
       "      <td>...</td>\n",
       "      <td>...</td>\n",
       "      <td>...</td>\n",
       "      <td>...</td>\n",
       "      <td>...</td>\n",
       "      <td>...</td>\n",
       "      <td>...</td>\n",
       "      <td>...</td>\n",
       "      <td>...</td>\n",
       "      <td>...</td>\n",
       "      <td>...</td>\n",
       "      <td>...</td>\n",
       "      <td>...</td>\n",
       "      <td>...</td>\n",
       "    </tr>\n",
       "    <tr>\n",
       "      <th>10315</th>\n",
       "      <td>24.054759</td>\n",
       "      <td>277.1875</td>\n",
       "      <td>57.411018</td>\n",
       "      <td>3.704696</td>\n",
       "      <td>-8.723821</td>\n",
       "      <td>14.131296</td>\n",
       "      <td>0.020041</td>\n",
       "      <td>100295.9375</td>\n",
       "      <td>301.174225</td>\n",
       "      <td>300.485138</td>\n",
       "      <td>66.389023</td>\n",
       "      <td>12396.92969</td>\n",
       "      <td>2010</td>\n",
       "      <td>10</td>\n",
       "    </tr>\n",
       "    <tr>\n",
       "      <th>10316</th>\n",
       "      <td>24.054759</td>\n",
       "      <td>276.8750</td>\n",
       "      <td>57.277252</td>\n",
       "      <td>5.944778</td>\n",
       "      <td>-8.424341</td>\n",
       "      <td>15.523009</td>\n",
       "      <td>0.020222</td>\n",
       "      <td>100210.2891</td>\n",
       "      <td>301.385193</td>\n",
       "      <td>300.541840</td>\n",
       "      <td>66.398727</td>\n",
       "      <td>12395.43750</td>\n",
       "      <td>2010</td>\n",
       "      <td>10</td>\n",
       "    </tr>\n",
       "    <tr>\n",
       "      <th>10317</th>\n",
       "      <td>24.054759</td>\n",
       "      <td>276.8750</td>\n",
       "      <td>57.277252</td>\n",
       "      <td>5.944778</td>\n",
       "      <td>-8.424341</td>\n",
       "      <td>15.523009</td>\n",
       "      <td>0.020222</td>\n",
       "      <td>100210.2891</td>\n",
       "      <td>301.385193</td>\n",
       "      <td>300.541840</td>\n",
       "      <td>66.398727</td>\n",
       "      <td>12395.43750</td>\n",
       "      <td>2010</td>\n",
       "      <td>10</td>\n",
       "    </tr>\n",
       "    <tr>\n",
       "      <th>10318</th>\n",
       "      <td>24.054759</td>\n",
       "      <td>276.5625</td>\n",
       "      <td>54.855862</td>\n",
       "      <td>8.170049</td>\n",
       "      <td>-6.791406</td>\n",
       "      <td>16.326492</td>\n",
       "      <td>0.020324</td>\n",
       "      <td>100116.5234</td>\n",
       "      <td>301.408600</td>\n",
       "      <td>300.491333</td>\n",
       "      <td>66.385506</td>\n",
       "      <td>12391.72363</td>\n",
       "      <td>2010</td>\n",
       "      <td>10</td>\n",
       "    </tr>\n",
       "    <tr>\n",
       "      <th>10319</th>\n",
       "      <td>24.054759</td>\n",
       "      <td>276.5625</td>\n",
       "      <td>54.855862</td>\n",
       "      <td>8.170049</td>\n",
       "      <td>-6.791406</td>\n",
       "      <td>16.326492</td>\n",
       "      <td>0.020324</td>\n",
       "      <td>100116.5234</td>\n",
       "      <td>301.408600</td>\n",
       "      <td>300.491333</td>\n",
       "      <td>66.385506</td>\n",
       "      <td>12391.72363</td>\n",
       "      <td>2010</td>\n",
       "      <td>10</td>\n",
       "    </tr>\n",
       "  </tbody>\n",
       "</table>\n",
       "<p>10320 rows × 14 columns</p>\n",
       "</div>"
      ],
      "text/plain": [
       "             lat       lon        TMQ      U850      UBOT       VBOT  \\\n",
       "0     -30.391134  354.3750  25.907482  6.662070 -7.432653  -3.936030   \n",
       "1     -30.391134  354.3750  25.907482  6.662070 -7.432653  -3.936030   \n",
       "2     -31.095176  354.3750  27.019733  4.951319 -7.286631  -3.150316   \n",
       "3     -31.095176  354.3750  27.019733  4.951319 -7.286631  -3.150316   \n",
       "4     -30.860495  354.3750  26.516499  5.362008 -7.257047  -2.907396   \n",
       "...          ...       ...        ...       ...       ...        ...   \n",
       "10315  24.054759  277.1875  57.411018  3.704696 -8.723821  14.131296   \n",
       "10316  24.054759  276.8750  57.277252  5.944778 -8.424341  15.523009   \n",
       "10317  24.054759  276.8750  57.277252  5.944778 -8.424341  15.523009   \n",
       "10318  24.054759  276.5625  54.855862  8.170049 -6.791406  16.326492   \n",
       "10319  24.054759  276.5625  54.855862  8.170049 -6.791406  16.326492   \n",
       "\n",
       "         QREFHT          PSL          TS      TREFHT       Z1000         Z200  \\\n",
       "0      0.010624  101532.5391  290.697632  290.039947  129.814316  11948.68848   \n",
       "1      0.010624  101532.5391  290.697632  290.039947  129.814316  11948.68848   \n",
       "2      0.010890  101513.0234  290.372650  289.940613  128.204788  11931.06738   \n",
       "3      0.010890  101513.0234  290.372650  289.940613  128.204788  11931.06738   \n",
       "4      0.010821  101505.1484  290.697632  290.041351  127.552147  11936.12500   \n",
       "...         ...          ...         ...         ...         ...          ...   \n",
       "10315  0.020041  100295.9375  301.174225  300.485138   66.389023  12396.92969   \n",
       "10316  0.020222  100210.2891  301.385193  300.541840   66.398727  12395.43750   \n",
       "10317  0.020222  100210.2891  301.385193  300.541840   66.398727  12395.43750   \n",
       "10318  0.020324  100116.5234  301.408600  300.491333   66.385506  12391.72363   \n",
       "10319  0.020324  100116.5234  301.408600  300.491333   66.385506  12391.72363   \n",
       "\n",
       "       year  month  \n",
       "0      2010     10  \n",
       "1      2010     10  \n",
       "2      2010     10  \n",
       "3      2010     10  \n",
       "4      2010     10  \n",
       "...     ...    ...  \n",
       "10315  2010     10  \n",
       "10316  2010     10  \n",
       "10317  2010     10  \n",
       "10318  2010     10  \n",
       "10319  2010     10  \n",
       "\n",
       "[10320 rows x 14 columns]"
      ]
     },
     "execution_count": 75,
     "metadata": {},
     "output_type": "execute_result"
    }
   ],
   "source": [
    "test = pd.read_csv(\"data/test.csv\")\n",
    "\n",
    "test = test.drop(columns=['SNo'])\n",
    "test = time_split(test)\n",
    "test = test.drop(columns=features_to_drop)\n",
    "\n",
    "test"
   ]
  },
  {
   "cell_type": "code",
   "execution_count": 77,
   "metadata": {},
   "outputs": [
    {
     "data": {
      "text/html": [
       "<style>#sk-container-id-4 {color: black;}#sk-container-id-4 pre{padding: 0;}#sk-container-id-4 div.sk-toggleable {background-color: white;}#sk-container-id-4 label.sk-toggleable__label {cursor: pointer;display: block;width: 100%;margin-bottom: 0;padding: 0.3em;box-sizing: border-box;text-align: center;}#sk-container-id-4 label.sk-toggleable__label-arrow:before {content: \"▸\";float: left;margin-right: 0.25em;color: #696969;}#sk-container-id-4 label.sk-toggleable__label-arrow:hover:before {color: black;}#sk-container-id-4 div.sk-estimator:hover label.sk-toggleable__label-arrow:before {color: black;}#sk-container-id-4 div.sk-toggleable__content {max-height: 0;max-width: 0;overflow: hidden;text-align: left;background-color: #f0f8ff;}#sk-container-id-4 div.sk-toggleable__content pre {margin: 0.2em;color: black;border-radius: 0.25em;background-color: #f0f8ff;}#sk-container-id-4 input.sk-toggleable__control:checked~div.sk-toggleable__content {max-height: 200px;max-width: 100%;overflow: auto;}#sk-container-id-4 input.sk-toggleable__control:checked~label.sk-toggleable__label-arrow:before {content: \"▾\";}#sk-container-id-4 div.sk-estimator input.sk-toggleable__control:checked~label.sk-toggleable__label {background-color: #d4ebff;}#sk-container-id-4 div.sk-label input.sk-toggleable__control:checked~label.sk-toggleable__label {background-color: #d4ebff;}#sk-container-id-4 input.sk-hidden--visually {border: 0;clip: rect(1px 1px 1px 1px);clip: rect(1px, 1px, 1px, 1px);height: 1px;margin: -1px;overflow: hidden;padding: 0;position: absolute;width: 1px;}#sk-container-id-4 div.sk-estimator {font-family: monospace;background-color: #f0f8ff;border: 1px dotted black;border-radius: 0.25em;box-sizing: border-box;margin-bottom: 0.5em;}#sk-container-id-4 div.sk-estimator:hover {background-color: #d4ebff;}#sk-container-id-4 div.sk-parallel-item::after {content: \"\";width: 100%;border-bottom: 1px solid gray;flex-grow: 1;}#sk-container-id-4 div.sk-label:hover label.sk-toggleable__label {background-color: #d4ebff;}#sk-container-id-4 div.sk-serial::before {content: \"\";position: absolute;border-left: 1px solid gray;box-sizing: border-box;top: 0;bottom: 0;left: 50%;z-index: 0;}#sk-container-id-4 div.sk-serial {display: flex;flex-direction: column;align-items: center;background-color: white;padding-right: 0.2em;padding-left: 0.2em;position: relative;}#sk-container-id-4 div.sk-item {position: relative;z-index: 1;}#sk-container-id-4 div.sk-parallel {display: flex;align-items: stretch;justify-content: center;background-color: white;position: relative;}#sk-container-id-4 div.sk-item::before, #sk-container-id-4 div.sk-parallel-item::before {content: \"\";position: absolute;border-left: 1px solid gray;box-sizing: border-box;top: 0;bottom: 0;left: 50%;z-index: -1;}#sk-container-id-4 div.sk-parallel-item {display: flex;flex-direction: column;z-index: 1;position: relative;background-color: white;}#sk-container-id-4 div.sk-parallel-item:first-child::after {align-self: flex-end;width: 50%;}#sk-container-id-4 div.sk-parallel-item:last-child::after {align-self: flex-start;width: 50%;}#sk-container-id-4 div.sk-parallel-item:only-child::after {width: 0;}#sk-container-id-4 div.sk-dashed-wrapped {border: 1px dashed gray;margin: 0 0.4em 0.5em 0.4em;box-sizing: border-box;padding-bottom: 0.4em;background-color: white;}#sk-container-id-4 div.sk-label label {font-family: monospace;font-weight: bold;display: inline-block;line-height: 1.2em;}#sk-container-id-4 div.sk-label-container {text-align: center;}#sk-container-id-4 div.sk-container {/* jupyter's `normalize.less` sets `[hidden] { display: none; }` but bootstrap.min.css set `[hidden] { display: none !important; }` so we also need the `!important` here to be able to override the default hidden behavior on the sphinx rendered scikit-learn.org. See: https://github.com/scikit-learn/scikit-learn/issues/21755 */display: inline-block !important;position: relative;}#sk-container-id-4 div.sk-text-repr-fallback {display: none;}</style><div id=\"sk-container-id-4\" class=\"sk-top-container\"><div class=\"sk-text-repr-fallback\"><pre>XGBClassifier(base_score=None, booster=None, callbacks=None,\n",
       "              colsample_bylevel=None, colsample_bynode=None,\n",
       "              colsample_bytree=None, early_stopping_rounds=None,\n",
       "              enable_categorical=False, eval_metric=None, feature_types=None,\n",
       "              gamma=None, gpu_id=None, grow_policy=None, importance_type=None,\n",
       "              interaction_constraints=None, learning_rate=None, max_bin=None,\n",
       "              max_cat_threshold=None, max_cat_to_onehot=None,\n",
       "              max_delta_step=None, max_depth=None, max_leaves=None,\n",
       "              min_child_weight=None, missing=nan, monotone_constraints=None,\n",
       "              n_estimators=100, n_jobs=None, num_parallel_tree=None,\n",
       "              objective=&#x27;multi:softprob&#x27;, predictor=None, ...)</pre><b>In a Jupyter environment, please rerun this cell to show the HTML representation or trust the notebook. <br />On GitHub, the HTML representation is unable to render, please try loading this page with nbviewer.org.</b></div><div class=\"sk-container\" hidden><div class=\"sk-item\"><div class=\"sk-estimator sk-toggleable\"><input class=\"sk-toggleable__control sk-hidden--visually\" id=\"sk-estimator-id-4\" type=\"checkbox\" checked><label for=\"sk-estimator-id-4\" class=\"sk-toggleable__label sk-toggleable__label-arrow\">XGBClassifier</label><div class=\"sk-toggleable__content\"><pre>XGBClassifier(base_score=None, booster=None, callbacks=None,\n",
       "              colsample_bylevel=None, colsample_bynode=None,\n",
       "              colsample_bytree=None, early_stopping_rounds=None,\n",
       "              enable_categorical=False, eval_metric=None, feature_types=None,\n",
       "              gamma=None, gpu_id=None, grow_policy=None, importance_type=None,\n",
       "              interaction_constraints=None, learning_rate=None, max_bin=None,\n",
       "              max_cat_threshold=None, max_cat_to_onehot=None,\n",
       "              max_delta_step=None, max_depth=None, max_leaves=None,\n",
       "              min_child_weight=None, missing=nan, monotone_constraints=None,\n",
       "              n_estimators=100, n_jobs=None, num_parallel_tree=None,\n",
       "              objective=&#x27;multi:softprob&#x27;, predictor=None, ...)</pre></div></div></div></div></div>"
      ],
      "text/plain": [
       "XGBClassifier(base_score=None, booster=None, callbacks=None,\n",
       "              colsample_bylevel=None, colsample_bynode=None,\n",
       "              colsample_bytree=None, early_stopping_rounds=None,\n",
       "              enable_categorical=False, eval_metric=None, feature_types=None,\n",
       "              gamma=None, gpu_id=None, grow_policy=None, importance_type=None,\n",
       "              interaction_constraints=None, learning_rate=None, max_bin=None,\n",
       "              max_cat_threshold=None, max_cat_to_onehot=None,\n",
       "              max_delta_step=None, max_depth=None, max_leaves=None,\n",
       "              min_child_weight=None, missing=nan, monotone_constraints=None,\n",
       "              n_estimators=100, n_jobs=None, num_parallel_tree=None,\n",
       "              objective='multi:softprob', predictor=None, ...)"
      ]
     },
     "execution_count": 77,
     "metadata": {},
     "output_type": "execute_result"
    }
   ],
   "source": [
    "X_all_train = pd.concat([X_train_dropped_feats, X_eval_dropped_feats])\n",
    "y_all_train = pd.concat([y_baseline, y_eval])\n",
    "\n",
    "X_all_train, y_all_train = SMOTEENN(random_state=0).fit_resample(X_all_train, y_all_train)\n",
    "# xgb_all_train = XGBClassifier(n_estimators=350, \n",
    "#                               learning_rate=0.1, \n",
    "#                               max_depth=12,\n",
    "#                               min_child_weight=9,\n",
    "#                               gamma=0.0,\n",
    "#                               subsample=0.75,\n",
    "#                               colsample_bytree=0.6)\n",
    "xgb_all_train = XGBClassifier()\n",
    "\n",
    "xgb_all_train.fit(X_all_train, y_all_train)"
   ]
  },
  {
   "cell_type": "code",
   "execution_count": 78,
   "metadata": {},
   "outputs": [],
   "source": [
    "test_preds = xgb_all_train.predict(test)"
   ]
  },
  {
   "cell_type": "code",
   "execution_count": 79,
   "metadata": {},
   "outputs": [
    {
     "data": {
      "text/plain": [
       "(array([0, 1, 2], dtype=int64), array([7616,  691, 2013], dtype=int64))"
      ]
     },
     "execution_count": 79,
     "metadata": {},
     "output_type": "execute_result"
    }
   ],
   "source": [
    "np.unique(test_preds, return_counts=True)"
   ]
  },
  {
   "cell_type": "code",
   "execution_count": 80,
   "metadata": {},
   "outputs": [],
   "source": [
    "np.savetxt(\"data/xgboost_enn_all_train_no_tuning.csv\", np.dstack((np.arange(1, test_preds.size+1),test_preds))[0],\"%d,%d\",header=\"SNo,Labels\", comments='')"
   ]
  },
  {
   "cell_type": "code",
   "execution_count": null,
   "metadata": {},
   "outputs": [],
   "source": []
  }
 ],
 "metadata": {
  "kernelspec": {
   "display_name": "Python 3",
   "language": "python",
   "name": "python3"
  },
  "language_info": {
   "codemirror_mode": {
    "name": "ipython",
    "version": 3
   },
   "file_extension": ".py",
   "mimetype": "text/x-python",
   "name": "python",
   "nbconvert_exporter": "python",
   "pygments_lexer": "ipython3",
   "version": "3.10.13"
  }
 },
 "nbformat": 4,
 "nbformat_minor": 2
}
