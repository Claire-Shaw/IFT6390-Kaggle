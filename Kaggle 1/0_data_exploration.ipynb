{
 "cells": [
  {
   "cell_type": "code",
   "execution_count": 23,
   "metadata": {},
   "outputs": [],
   "source": [
    "import pandas as pd\n",
    "import seaborn as sns"
   ]
  },
  {
   "cell_type": "code",
   "execution_count": 24,
   "metadata": {},
   "outputs": [],
   "source": [
    "train = pd.read_csv(\"data/train.csv\")\n",
    "test = pd.read_csv(\"data/test.csv\")"
   ]
  },
  {
   "cell_type": "code",
   "execution_count": 25,
   "metadata": {},
   "outputs": [
    {
     "data": {
      "text/plain": [
       "Label\n",
       "0    35179\n",
       "2     7756\n",
       "1     1825\n",
       "Name: count, dtype: int64"
      ]
     },
     "execution_count": 25,
     "metadata": {},
     "output_type": "execute_result"
    }
   ],
   "source": [
    "train['Label'].value_counts()"
   ]
  },
  {
   "cell_type": "code",
   "execution_count": 26,
   "metadata": {},
   "outputs": [
    {
     "data": {
      "text/plain": [
       "(44760, 21)"
      ]
     },
     "execution_count": 26,
     "metadata": {},
     "output_type": "execute_result"
    }
   ],
   "source": [
    "train.shape"
   ]
  },
  {
   "cell_type": "code",
   "execution_count": 27,
   "metadata": {},
   "outputs": [],
   "source": [
    "train = train.drop(columns=['SNo'])\n",
    "train_features = train.drop(columns=['Label'])\n"
   ]
  },
  {
   "cell_type": "code",
   "execution_count": 29,
   "metadata": {},
   "outputs": [
    {
     "name": "stdout",
     "output_type": "stream",
     "text": [
      "(44760, 20)\n"
     ]
    },
    {
     "data": {
      "text/html": [
       "<div>\n",
       "<style scoped>\n",
       "    .dataframe tbody tr th:only-of-type {\n",
       "        vertical-align: middle;\n",
       "    }\n",
       "\n",
       "    .dataframe tbody tr th {\n",
       "        vertical-align: top;\n",
       "    }\n",
       "\n",
       "    .dataframe thead th {\n",
       "        text-align: right;\n",
       "    }\n",
       "</style>\n",
       "<table border=\"1\" class=\"dataframe\">\n",
       "  <thead>\n",
       "    <tr style=\"text-align: right;\">\n",
       "      <th></th>\n",
       "      <th>lat</th>\n",
       "      <th>lon</th>\n",
       "      <th>TMQ</th>\n",
       "      <th>U850</th>\n",
       "      <th>V850</th>\n",
       "      <th>UBOT</th>\n",
       "      <th>VBOT</th>\n",
       "      <th>QREFHT</th>\n",
       "      <th>PS</th>\n",
       "      <th>PSL</th>\n",
       "      <th>T200</th>\n",
       "      <th>T500</th>\n",
       "      <th>PRECT</th>\n",
       "      <th>TS</th>\n",
       "      <th>TREFHT</th>\n",
       "      <th>Z1000</th>\n",
       "      <th>Z200</th>\n",
       "      <th>ZBOT</th>\n",
       "      <th>time</th>\n",
       "      <th>Label</th>\n",
       "    </tr>\n",
       "  </thead>\n",
       "  <tbody>\n",
       "    <tr>\n",
       "      <th>0</th>\n",
       "      <td>21.707953</td>\n",
       "      <td>275.0000</td>\n",
       "      <td>78.909431</td>\n",
       "      <td>-58.805229</td>\n",
       "      <td>36.200672</td>\n",
       "      <td>-58.260475</td>\n",
       "      <td>-0.722955</td>\n",
       "      <td>0.022321</td>\n",
       "      <td>97497.79688</td>\n",
       "      <td>97498.90625</td>\n",
       "      <td>227.119232</td>\n",
       "      <td>273.045563</td>\n",
       "      <td>1.390000e-05</td>\n",
       "      <td>302.350861</td>\n",
       "      <td>300.026764</td>\n",
       "      <td>66.339836</td>\n",
       "      <td>12400.22754</td>\n",
       "      <td>66.241585</td>\n",
       "      <td>20031024</td>\n",
       "      <td>1</td>\n",
       "    </tr>\n",
       "    <tr>\n",
       "      <th>2</th>\n",
       "      <td>21.473272</td>\n",
       "      <td>275.0000</td>\n",
       "      <td>80.641357</td>\n",
       "      <td>-42.340290</td>\n",
       "      <td>58.060246</td>\n",
       "      <td>-56.400234</td>\n",
       "      <td>26.484743</td>\n",
       "      <td>0.022204</td>\n",
       "      <td>96611.60156</td>\n",
       "      <td>96611.60156</td>\n",
       "      <td>229.172897</td>\n",
       "      <td>273.580810</td>\n",
       "      <td>1.440000e-05</td>\n",
       "      <td>302.350861</td>\n",
       "      <td>299.798828</td>\n",
       "      <td>66.165573</td>\n",
       "      <td>12371.33203</td>\n",
       "      <td>66.165268</td>\n",
       "      <td>20031024</td>\n",
       "      <td>1</td>\n",
       "    </tr>\n",
       "    <tr>\n",
       "      <th>4</th>\n",
       "      <td>21.707953</td>\n",
       "      <td>275.3125</td>\n",
       "      <td>76.891205</td>\n",
       "      <td>-45.996342</td>\n",
       "      <td>42.691631</td>\n",
       "      <td>-48.993065</td>\n",
       "      <td>10.246445</td>\n",
       "      <td>0.022328</td>\n",
       "      <td>98168.55469</td>\n",
       "      <td>98175.43750</td>\n",
       "      <td>224.642563</td>\n",
       "      <td>272.152283</td>\n",
       "      <td>9.890000e-06</td>\n",
       "      <td>302.462708</td>\n",
       "      <td>300.160187</td>\n",
       "      <td>66.880089</td>\n",
       "      <td>12386.88574</td>\n",
       "      <td>66.275246</td>\n",
       "      <td>20031024</td>\n",
       "      <td>1</td>\n",
       "    </tr>\n",
       "    <tr>\n",
       "      <th>6</th>\n",
       "      <td>21.473272</td>\n",
       "      <td>275.3125</td>\n",
       "      <td>76.771362</td>\n",
       "      <td>-33.228142</td>\n",
       "      <td>57.195755</td>\n",
       "      <td>-46.387169</td>\n",
       "      <td>25.953285</td>\n",
       "      <td>0.022245</td>\n",
       "      <td>97758.07031</td>\n",
       "      <td>97758.10938</td>\n",
       "      <td>225.363648</td>\n",
       "      <td>271.941498</td>\n",
       "      <td>9.270000e-06</td>\n",
       "      <td>302.462708</td>\n",
       "      <td>300.021759</td>\n",
       "      <td>66.232269</td>\n",
       "      <td>12359.41309</td>\n",
       "      <td>66.228661</td>\n",
       "      <td>20031024</td>\n",
       "      <td>1</td>\n",
       "    </tr>\n",
       "    <tr>\n",
       "      <th>8</th>\n",
       "      <td>21.707953</td>\n",
       "      <td>275.6250</td>\n",
       "      <td>74.268501</td>\n",
       "      <td>-37.684723</td>\n",
       "      <td>42.142948</td>\n",
       "      <td>-41.747562</td>\n",
       "      <td>14.927589</td>\n",
       "      <td>0.022106</td>\n",
       "      <td>98841.56250</td>\n",
       "      <td>98852.13281</td>\n",
       "      <td>222.947571</td>\n",
       "      <td>271.887268</td>\n",
       "      <td>7.160000e-06</td>\n",
       "      <td>302.462708</td>\n",
       "      <td>300.101929</td>\n",
       "      <td>67.174088</td>\n",
       "      <td>12392.40234</td>\n",
       "      <td>66.251289</td>\n",
       "      <td>20031024</td>\n",
       "      <td>1</td>\n",
       "    </tr>\n",
       "    <tr>\n",
       "      <th>...</th>\n",
       "      <td>...</td>\n",
       "      <td>...</td>\n",
       "      <td>...</td>\n",
       "      <td>...</td>\n",
       "      <td>...</td>\n",
       "      <td>...</td>\n",
       "      <td>...</td>\n",
       "      <td>...</td>\n",
       "      <td>...</td>\n",
       "      <td>...</td>\n",
       "      <td>...</td>\n",
       "      <td>...</td>\n",
       "      <td>...</td>\n",
       "      <td>...</td>\n",
       "      <td>...</td>\n",
       "      <td>...</td>\n",
       "      <td>...</td>\n",
       "      <td>...</td>\n",
       "      <td>...</td>\n",
       "      <td>...</td>\n",
       "    </tr>\n",
       "    <tr>\n",
       "      <th>44731</th>\n",
       "      <td>13.494133</td>\n",
       "      <td>253.4375</td>\n",
       "      <td>68.789070</td>\n",
       "      <td>19.561129</td>\n",
       "      <td>-26.216906</td>\n",
       "      <td>25.676321</td>\n",
       "      <td>-7.471170</td>\n",
       "      <td>0.019075</td>\n",
       "      <td>100311.89840</td>\n",
       "      <td>100311.89840</td>\n",
       "      <td>218.761704</td>\n",
       "      <td>269.819367</td>\n",
       "      <td>9.910000e-06</td>\n",
       "      <td>301.428863</td>\n",
       "      <td>297.852966</td>\n",
       "      <td>65.575958</td>\n",
       "      <td>12420.47949</td>\n",
       "      <td>65.575958</td>\n",
       "      <td>20000629</td>\n",
       "      <td>1</td>\n",
       "    </tr>\n",
       "    <tr>\n",
       "      <th>44732</th>\n",
       "      <td>13.024772</td>\n",
       "      <td>253.7500</td>\n",
       "      <td>57.838215</td>\n",
       "      <td>27.580883</td>\n",
       "      <td>2.324419</td>\n",
       "      <td>25.678833</td>\n",
       "      <td>8.375986</td>\n",
       "      <td>0.021070</td>\n",
       "      <td>99680.51563</td>\n",
       "      <td>99680.51563</td>\n",
       "      <td>218.561432</td>\n",
       "      <td>269.597809</td>\n",
       "      <td>1.990000e-07</td>\n",
       "      <td>301.890808</td>\n",
       "      <td>301.103760</td>\n",
       "      <td>66.546562</td>\n",
       "      <td>12340.12109</td>\n",
       "      <td>66.546562</td>\n",
       "      <td>20011207</td>\n",
       "      <td>1</td>\n",
       "    </tr>\n",
       "    <tr>\n",
       "      <th>44741</th>\n",
       "      <td>13.494133</td>\n",
       "      <td>253.7500</td>\n",
       "      <td>73.321968</td>\n",
       "      <td>21.677361</td>\n",
       "      <td>-22.360260</td>\n",
       "      <td>27.409748</td>\n",
       "      <td>-1.814677</td>\n",
       "      <td>0.019768</td>\n",
       "      <td>100134.93750</td>\n",
       "      <td>100134.93750</td>\n",
       "      <td>220.888092</td>\n",
       "      <td>270.320007</td>\n",
       "      <td>1.410000e-05</td>\n",
       "      <td>301.428863</td>\n",
       "      <td>298.425842</td>\n",
       "      <td>65.764488</td>\n",
       "      <td>12476.83887</td>\n",
       "      <td>65.764488</td>\n",
       "      <td>20000629</td>\n",
       "      <td>1</td>\n",
       "    </tr>\n",
       "    <tr>\n",
       "      <th>44742</th>\n",
       "      <td>13.259452</td>\n",
       "      <td>253.7500</td>\n",
       "      <td>57.735180</td>\n",
       "      <td>29.336315</td>\n",
       "      <td>3.866159</td>\n",
       "      <td>30.041025</td>\n",
       "      <td>6.957835</td>\n",
       "      <td>0.021593</td>\n",
       "      <td>99285.27344</td>\n",
       "      <td>99285.27344</td>\n",
       "      <td>218.439926</td>\n",
       "      <td>270.495758</td>\n",
       "      <td>1.200000e-07</td>\n",
       "      <td>301.878662</td>\n",
       "      <td>300.797058</td>\n",
       "      <td>66.483833</td>\n",
       "      <td>12338.07715</td>\n",
       "      <td>66.483833</td>\n",
       "      <td>20011207</td>\n",
       "      <td>0</td>\n",
       "    </tr>\n",
       "    <tr>\n",
       "      <th>44751</th>\n",
       "      <td>13.494133</td>\n",
       "      <td>253.7500</td>\n",
       "      <td>58.471558</td>\n",
       "      <td>26.397322</td>\n",
       "      <td>5.664860</td>\n",
       "      <td>30.215387</td>\n",
       "      <td>1.547393</td>\n",
       "      <td>0.021974</td>\n",
       "      <td>98739.55469</td>\n",
       "      <td>98739.55469</td>\n",
       "      <td>217.845352</td>\n",
       "      <td>272.109589</td>\n",
       "      <td>1.120000e-07</td>\n",
       "      <td>301.878662</td>\n",
       "      <td>300.574646</td>\n",
       "      <td>66.438522</td>\n",
       "      <td>12340.96973</td>\n",
       "      <td>66.438522</td>\n",
       "      <td>20011207</td>\n",
       "      <td>1</td>\n",
       "    </tr>\n",
       "  </tbody>\n",
       "</table>\n",
       "<p>21120 rows × 20 columns</p>\n",
       "</div>"
      ],
      "text/plain": [
       "             lat       lon        TMQ       U850       V850       UBOT  \\\n",
       "0      21.707953  275.0000  78.909431 -58.805229  36.200672 -58.260475   \n",
       "2      21.473272  275.0000  80.641357 -42.340290  58.060246 -56.400234   \n",
       "4      21.707953  275.3125  76.891205 -45.996342  42.691631 -48.993065   \n",
       "6      21.473272  275.3125  76.771362 -33.228142  57.195755 -46.387169   \n",
       "8      21.707953  275.6250  74.268501 -37.684723  42.142948 -41.747562   \n",
       "...          ...       ...        ...        ...        ...        ...   \n",
       "44731  13.494133  253.4375  68.789070  19.561129 -26.216906  25.676321   \n",
       "44732  13.024772  253.7500  57.838215  27.580883   2.324419  25.678833   \n",
       "44741  13.494133  253.7500  73.321968  21.677361 -22.360260  27.409748   \n",
       "44742  13.259452  253.7500  57.735180  29.336315   3.866159  30.041025   \n",
       "44751  13.494133  253.7500  58.471558  26.397322   5.664860  30.215387   \n",
       "\n",
       "            VBOT    QREFHT            PS           PSL        T200  \\\n",
       "0      -0.722955  0.022321   97497.79688   97498.90625  227.119232   \n",
       "2      26.484743  0.022204   96611.60156   96611.60156  229.172897   \n",
       "4      10.246445  0.022328   98168.55469   98175.43750  224.642563   \n",
       "6      25.953285  0.022245   97758.07031   97758.10938  225.363648   \n",
       "8      14.927589  0.022106   98841.56250   98852.13281  222.947571   \n",
       "...          ...       ...           ...           ...         ...   \n",
       "44731  -7.471170  0.019075  100311.89840  100311.89840  218.761704   \n",
       "44732   8.375986  0.021070   99680.51563   99680.51563  218.561432   \n",
       "44741  -1.814677  0.019768  100134.93750  100134.93750  220.888092   \n",
       "44742   6.957835  0.021593   99285.27344   99285.27344  218.439926   \n",
       "44751   1.547393  0.021974   98739.55469   98739.55469  217.845352   \n",
       "\n",
       "             T500         PRECT          TS      TREFHT      Z1000  \\\n",
       "0      273.045563  1.390000e-05  302.350861  300.026764  66.339836   \n",
       "2      273.580810  1.440000e-05  302.350861  299.798828  66.165573   \n",
       "4      272.152283  9.890000e-06  302.462708  300.160187  66.880089   \n",
       "6      271.941498  9.270000e-06  302.462708  300.021759  66.232269   \n",
       "8      271.887268  7.160000e-06  302.462708  300.101929  67.174088   \n",
       "...           ...           ...         ...         ...        ...   \n",
       "44731  269.819367  9.910000e-06  301.428863  297.852966  65.575958   \n",
       "44732  269.597809  1.990000e-07  301.890808  301.103760  66.546562   \n",
       "44741  270.320007  1.410000e-05  301.428863  298.425842  65.764488   \n",
       "44742  270.495758  1.200000e-07  301.878662  300.797058  66.483833   \n",
       "44751  272.109589  1.120000e-07  301.878662  300.574646  66.438522   \n",
       "\n",
       "              Z200       ZBOT      time  Label  \n",
       "0      12400.22754  66.241585  20031024      1  \n",
       "2      12371.33203  66.165268  20031024      1  \n",
       "4      12386.88574  66.275246  20031024      1  \n",
       "6      12359.41309  66.228661  20031024      1  \n",
       "8      12392.40234  66.251289  20031024      1  \n",
       "...            ...        ...       ...    ...  \n",
       "44731  12420.47949  65.575958  20000629      1  \n",
       "44732  12340.12109  66.546562  20011207      1  \n",
       "44741  12476.83887  65.764488  20000629      1  \n",
       "44742  12338.07715  66.483833  20011207      0  \n",
       "44751  12340.96973  66.438522  20011207      1  \n",
       "\n",
       "[21120 rows x 20 columns]"
      ]
     },
     "execution_count": 29,
     "metadata": {},
     "output_type": "execute_result"
    }
   ],
   "source": [
    "print(train.shape)\n",
    "train.drop_duplicates(subset=train_features.columns)"
   ]
  },
  {
   "cell_type": "code",
   "execution_count": 31,
   "metadata": {},
   "outputs": [
    {
     "data": {
      "text/plain": [
       "<Axes: xlabel='Label', ylabel='count'>"
      ]
     },
     "execution_count": 31,
     "metadata": {},
     "output_type": "execute_result"
    },
    {
     "data": {
      "image/png": "[encoded data removed]",
      "text/plain": [
       "<Figure size 640x480 with 1 Axes>"
      ]
     },
     "metadata": {},
     "output_type": "display_data"
    }
   ],
   "source": [
    "sns.countplot(x=train['Label'], data=train)"
   ]
  },
  {
   "cell_type": "markdown",
   "metadata": {},
   "source": [
    "We see that we have quite a few duplicate rows. Some of these rows have the same feature values, but different data. For these records we have decided to keep the median label. In the case of ties, we keep the first example seen"
   ]
  },
  {
   "cell_type": "code",
   "execution_count": 32,
   "metadata": {},
   "outputs": [
    {
     "name": "stdout",
     "output_type": "stream",
     "text": [
      "(21120, 20)\n"
     ]
    },
    {
     "data": {
      "text/plain": [
       "Label\n",
       "0    17488\n",
       "2     2929\n",
       "1      703\n",
       "Name: count, dtype: int64"
      ]
     },
     "execution_count": 32,
     "metadata": {},
     "output_type": "execute_result"
    }
   ],
   "source": [
    "from scipy import stats\n",
    "train_dropped_dups = train.groupby([x for x in train.columns if x!='Label'], as_index=False).agg({'Label': lambda x:stats.mode(x)[0]}).reset_index(drop=True)\n",
    "print(train_dropped_dups.shape)\n",
    "train_dropped_dups['Label'].value_counts()"
   ]
  },
  {
   "cell_type": "code",
   "execution_count": 33,
   "metadata": {},
   "outputs": [
    {
     "data": {
      "text/plain": [
       "<Axes: xlabel='Label', ylabel='count'>"
      ]
     },
     "execution_count": 33,
     "metadata": {},
     "output_type": "execute_result"
    },
    {
     "data": {
      "image/png": "[encoded data removed]",
      "text/plain": [
       "<Figure size 640x480 with 1 Axes>"
      ]
     },
     "metadata": {},
     "output_type": "display_data"
    }
   ],
   "source": [
    "sns.countplot(x=train_dropped_dups['Label'], data=train_dropped_dups)"
   ]
  },
  {
   "cell_type": "markdown",
   "metadata": {},
   "source": [
    "Experimenting with SMOTE-based methods"
   ]
  },
  {
   "cell_type": "code",
   "execution_count": 34,
   "metadata": {},
   "outputs": [],
   "source": [
    "from imblearn.combine import SMOTETomek\n",
    "\n",
    "smo_tek = SMOTETomek(random_state=0)\n",
    "X_smotek, y_smotek = smo_tek.fit_resample(train.drop(columns=['Label']), train['Label'])"
   ]
  },
  {
   "cell_type": "code",
   "execution_count": 35,
   "metadata": {},
   "outputs": [
    {
     "data": {
      "text/plain": [
       "<Axes: xlabel='Label'>"
      ]
     },
     "execution_count": 35,
     "metadata": {},
     "output_type": "execute_result"
    },
    {
     "data": {
      "image/png": "[encoded data removed]",
      "text/plain": [
       "<Figure size 640x480 with 1 Axes>"
      ]
     },
     "metadata": {},
     "output_type": "display_data"
    }
   ],
   "source": [
    "y_smotek.value_counts().plot(kind='bar')"
   ]
  },
  {
   "cell_type": "code",
   "execution_count": 36,
   "metadata": {},
   "outputs": [
    {
     "data": {
      "text/plain": [
       "Label\n",
       "0    35162\n",
       "1    35119\n",
       "2    35106\n",
       "Name: count, dtype: int64"
      ]
     },
     "execution_count": 36,
     "metadata": {},
     "output_type": "execute_result"
    }
   ],
   "source": [
    "y_smotek.value_counts()"
   ]
  },
  {
   "cell_type": "code",
   "execution_count": 37,
   "metadata": {},
   "outputs": [
    {
     "data": {
      "text/plain": [
       "(105387,)"
      ]
     },
     "execution_count": 37,
     "metadata": {},
     "output_type": "execute_result"
    }
   ],
   "source": [
    "y_smotek.shape"
   ]
  },
  {
   "cell_type": "code",
   "execution_count": 38,
   "metadata": {},
   "outputs": [],
   "source": [
    "from imblearn.combine import SMOTEENN\n",
    "\n",
    "smo_een = SMOTEENN(random_state=0)\n",
    "X_smoteenn, y_smoteenn = smo_een.fit_resample(train.drop(columns=['Label']), train['Label'])"
   ]
  },
  {
   "cell_type": "code",
   "execution_count": 39,
   "metadata": {},
   "outputs": [
    {
     "data": {
      "text/plain": [
       "<Axes: xlabel='Label'>"
      ]
     },
     "execution_count": 39,
     "metadata": {},
     "output_type": "execute_result"
    },
    {
     "data": {
      "image/png": "[encoded data removed]",
      "text/plain": [
       "<Figure size 640x480 with 1 Axes>"
      ]
     },
     "metadata": {},
     "output_type": "display_data"
    }
   ],
   "source": [
    "y_smoteenn.value_counts().plot(kind='bar')"
   ]
  },
  {
   "cell_type": "code",
   "execution_count": 40,
   "metadata": {},
   "outputs": [
    {
     "data": {
      "text/plain": [
       "Label\n",
       "0    30071\n",
       "1    28570\n",
       "2    24060\n",
       "Name: count, dtype: int64"
      ]
     },
     "execution_count": 40,
     "metadata": {},
     "output_type": "execute_result"
    }
   ],
   "source": [
    "y_smoteenn.value_counts()"
   ]
  },
  {
   "cell_type": "code",
   "execution_count": 41,
   "metadata": {},
   "outputs": [
    {
     "data": {
      "text/plain": [
       "(82701,)"
      ]
     },
     "execution_count": 41,
     "metadata": {},
     "output_type": "execute_result"
    }
   ],
   "source": [
    "y_smoteenn.shape"
   ]
  },
  {
   "cell_type": "markdown",
   "metadata": {},
   "source": [
    "Testing method to parse the time feature into a more useful 'year' and 'month' format"
   ]
  },
  {
   "cell_type": "code",
   "execution_count": 42,
   "metadata": {},
   "outputs": [],
   "source": [
    "def time_features(df):\n",
    "    df['year'] = train['time'].astype(str).str[0:4]\n",
    "    df['month'] = train['time'].astype(str).str[4:6]\n",
    "    df = df.drop(columns=['time'])\n",
    "    return df"
   ]
  },
  {
   "cell_type": "code",
   "execution_count": 43,
   "metadata": {},
   "outputs": [
    {
     "data": {
      "text/html": [
       "<div>\n",
       "<style scoped>\n",
       "    .dataframe tbody tr th:only-of-type {\n",
       "        vertical-align: middle;\n",
       "    }\n",
       "\n",
       "    .dataframe tbody tr th {\n",
       "        vertical-align: top;\n",
       "    }\n",
       "\n",
       "    .dataframe thead th {\n",
       "        text-align: right;\n",
       "    }\n",
       "</style>\n",
       "<table border=\"1\" class=\"dataframe\">\n",
       "  <thead>\n",
       "    <tr style=\"text-align: right;\">\n",
       "      <th></th>\n",
       "      <th>lat</th>\n",
       "      <th>lon</th>\n",
       "      <th>TMQ</th>\n",
       "      <th>U850</th>\n",
       "      <th>V850</th>\n",
       "      <th>UBOT</th>\n",
       "      <th>VBOT</th>\n",
       "      <th>QREFHT</th>\n",
       "      <th>PS</th>\n",
       "      <th>PSL</th>\n",
       "      <th>...</th>\n",
       "      <th>T500</th>\n",
       "      <th>PRECT</th>\n",
       "      <th>TS</th>\n",
       "      <th>TREFHT</th>\n",
       "      <th>Z1000</th>\n",
       "      <th>Z200</th>\n",
       "      <th>ZBOT</th>\n",
       "      <th>Label</th>\n",
       "      <th>year</th>\n",
       "      <th>month</th>\n",
       "    </tr>\n",
       "  </thead>\n",
       "  <tbody>\n",
       "    <tr>\n",
       "      <th>0</th>\n",
       "      <td>-31.095176</td>\n",
       "      <td>353.1250</td>\n",
       "      <td>9.119848</td>\n",
       "      <td>1.598317</td>\n",
       "      <td>1.470260</td>\n",
       "      <td>0.810265</td>\n",
       "      <td>2.363183</td>\n",
       "      <td>0.004364</td>\n",
       "      <td>102511.0156</td>\n",
       "      <td>102511.0156</td>\n",
       "      <td>...</td>\n",
       "      <td>255.653427</td>\n",
       "      <td>1.260000e-15</td>\n",
       "      <td>290.665344</td>\n",
       "      <td>286.344299</td>\n",
       "      <td>207.444214</td>\n",
       "      <td>11909.32422</td>\n",
       "      <td>62.648720</td>\n",
       "      <td>0</td>\n",
       "      <td>2003</td>\n",
       "      <td>10</td>\n",
       "    </tr>\n",
       "    <tr>\n",
       "      <th>1</th>\n",
       "      <td>-31.095176</td>\n",
       "      <td>353.1250</td>\n",
       "      <td>9.498385</td>\n",
       "      <td>3.720647</td>\n",
       "      <td>7.738389</td>\n",
       "      <td>3.792771</td>\n",
       "      <td>7.983106</td>\n",
       "      <td>0.005686</td>\n",
       "      <td>102429.6016</td>\n",
       "      <td>102429.6016</td>\n",
       "      <td>...</td>\n",
       "      <td>256.829498</td>\n",
       "      <td>0.000000e+00</td>\n",
       "      <td>291.421783</td>\n",
       "      <td>288.094391</td>\n",
       "      <td>202.014511</td>\n",
       "      <td>12044.68750</td>\n",
       "      <td>63.036098</td>\n",
       "      <td>0</td>\n",
       "      <td>2003</td>\n",
       "      <td>10</td>\n",
       "    </tr>\n",
       "    <tr>\n",
       "      <th>2</th>\n",
       "      <td>-31.095176</td>\n",
       "      <td>353.1250</td>\n",
       "      <td>9.570622</td>\n",
       "      <td>-0.449374</td>\n",
       "      <td>4.436312</td>\n",
       "      <td>-1.916012</td>\n",
       "      <td>5.904305</td>\n",
       "      <td>0.005256</td>\n",
       "      <td>102886.1641</td>\n",
       "      <td>102886.1641</td>\n",
       "      <td>...</td>\n",
       "      <td>252.715546</td>\n",
       "      <td>4.810000e-15</td>\n",
       "      <td>290.316620</td>\n",
       "      <td>286.040802</td>\n",
       "      <td>237.781067</td>\n",
       "      <td>11851.70801</td>\n",
       "      <td>62.586845</td>\n",
       "      <td>0</td>\n",
       "      <td>2003</td>\n",
       "      <td>10</td>\n",
       "    </tr>\n",
       "    <tr>\n",
       "      <th>3</th>\n",
       "      <td>-31.095176</td>\n",
       "      <td>353.1250</td>\n",
       "      <td>9.863693</td>\n",
       "      <td>-7.730425</td>\n",
       "      <td>-0.918892</td>\n",
       "      <td>-7.793533</td>\n",
       "      <td>-0.627037</td>\n",
       "      <td>0.005288</td>\n",
       "      <td>103979.4063</td>\n",
       "      <td>103979.4063</td>\n",
       "      <td>...</td>\n",
       "      <td>252.840958</td>\n",
       "      <td>1.150000e-13</td>\n",
       "      <td>290.339081</td>\n",
       "      <td>287.221649</td>\n",
       "      <td>326.891113</td>\n",
       "      <td>11988.68359</td>\n",
       "      <td>62.845680</td>\n",
       "      <td>0</td>\n",
       "      <td>2003</td>\n",
       "      <td>10</td>\n",
       "    </tr>\n",
       "    <tr>\n",
       "      <th>4</th>\n",
       "      <td>-31.095176</td>\n",
       "      <td>353.1250</td>\n",
       "      <td>10.451710</td>\n",
       "      <td>-7.256196</td>\n",
       "      <td>-3.592936</td>\n",
       "      <td>-8.562844</td>\n",
       "      <td>-0.678384</td>\n",
       "      <td>0.005993</td>\n",
       "      <td>103489.4609</td>\n",
       "      <td>103489.4609</td>\n",
       "      <td>...</td>\n",
       "      <td>253.231186</td>\n",
       "      <td>1.340000e-14</td>\n",
       "      <td>290.483887</td>\n",
       "      <td>287.476013</td>\n",
       "      <td>287.984039</td>\n",
       "      <td>11965.81445</td>\n",
       "      <td>62.924049</td>\n",
       "      <td>0</td>\n",
       "      <td>2003</td>\n",
       "      <td>10</td>\n",
       "    </tr>\n",
       "    <tr>\n",
       "      <th>...</th>\n",
       "      <td>...</td>\n",
       "      <td>...</td>\n",
       "      <td>...</td>\n",
       "      <td>...</td>\n",
       "      <td>...</td>\n",
       "      <td>...</td>\n",
       "      <td>...</td>\n",
       "      <td>...</td>\n",
       "      <td>...</td>\n",
       "      <td>...</td>\n",
       "      <td>...</td>\n",
       "      <td>...</td>\n",
       "      <td>...</td>\n",
       "      <td>...</td>\n",
       "      <td>...</td>\n",
       "      <td>...</td>\n",
       "      <td>...</td>\n",
       "      <td>...</td>\n",
       "      <td>...</td>\n",
       "      <td>...</td>\n",
       "      <td>...</td>\n",
       "    </tr>\n",
       "    <tr>\n",
       "      <th>21115</th>\n",
       "      <td>24.054759</td>\n",
       "      <td>277.8125</td>\n",
       "      <td>57.796329</td>\n",
       "      <td>-6.420532</td>\n",
       "      <td>17.582048</td>\n",
       "      <td>-11.166381</td>\n",
       "      <td>8.585260</td>\n",
       "      <td>0.020651</td>\n",
       "      <td>100927.5391</td>\n",
       "      <td>100927.5469</td>\n",
       "      <td>...</td>\n",
       "      <td>267.621674</td>\n",
       "      <td>2.080000e-07</td>\n",
       "      <td>301.819183</td>\n",
       "      <td>300.872101</td>\n",
       "      <td>82.221512</td>\n",
       "      <td>12414.16797</td>\n",
       "      <td>66.490471</td>\n",
       "      <td>1</td>\n",
       "      <td>2006</td>\n",
       "      <td>06</td>\n",
       "    </tr>\n",
       "    <tr>\n",
       "      <th>21116</th>\n",
       "      <td>24.054759</td>\n",
       "      <td>277.8125</td>\n",
       "      <td>58.329323</td>\n",
       "      <td>-8.095085</td>\n",
       "      <td>6.572595</td>\n",
       "      <td>-13.351055</td>\n",
       "      <td>9.610909</td>\n",
       "      <td>0.017898</td>\n",
       "      <td>100664.0234</td>\n",
       "      <td>100664.0313</td>\n",
       "      <td>...</td>\n",
       "      <td>268.883240</td>\n",
       "      <td>4.600000e-08</td>\n",
       "      <td>302.160065</td>\n",
       "      <td>298.892578</td>\n",
       "      <td>65.812500</td>\n",
       "      <td>12429.91602</td>\n",
       "      <td>65.812042</td>\n",
       "      <td>1</td>\n",
       "      <td>2002</td>\n",
       "      <td>02</td>\n",
       "    </tr>\n",
       "    <tr>\n",
       "      <th>21117</th>\n",
       "      <td>24.054759</td>\n",
       "      <td>277.8125</td>\n",
       "      <td>58.517265</td>\n",
       "      <td>-4.785640</td>\n",
       "      <td>3.789390</td>\n",
       "      <td>-8.509462</td>\n",
       "      <td>2.313743</td>\n",
       "      <td>0.021407</td>\n",
       "      <td>100948.1953</td>\n",
       "      <td>100948.1953</td>\n",
       "      <td>...</td>\n",
       "      <td>269.230347</td>\n",
       "      <td>8.800000e-08</td>\n",
       "      <td>303.307373</td>\n",
       "      <td>302.306854</td>\n",
       "      <td>84.499649</td>\n",
       "      <td>12492.16602</td>\n",
       "      <td>66.848801</td>\n",
       "      <td>0</td>\n",
       "      <td>2002</td>\n",
       "      <td>02</td>\n",
       "    </tr>\n",
       "    <tr>\n",
       "      <th>21118</th>\n",
       "      <td>24.054759</td>\n",
       "      <td>277.8125</td>\n",
       "      <td>62.778736</td>\n",
       "      <td>-10.072424</td>\n",
       "      <td>4.102436</td>\n",
       "      <td>-12.268980</td>\n",
       "      <td>-2.449703</td>\n",
       "      <td>0.020941</td>\n",
       "      <td>101060.1953</td>\n",
       "      <td>101060.2031</td>\n",
       "      <td>...</td>\n",
       "      <td>267.739990</td>\n",
       "      <td>4.550000e-07</td>\n",
       "      <td>302.993195</td>\n",
       "      <td>301.496399</td>\n",
       "      <td>94.111633</td>\n",
       "      <td>12432.50586</td>\n",
       "      <td>66.610916</td>\n",
       "      <td>0</td>\n",
       "      <td>2002</td>\n",
       "      <td>02</td>\n",
       "    </tr>\n",
       "    <tr>\n",
       "      <th>21119</th>\n",
       "      <td>24.054759</td>\n",
       "      <td>277.8125</td>\n",
       "      <td>67.582390</td>\n",
       "      <td>-3.965418</td>\n",
       "      <td>-5.013944</td>\n",
       "      <td>-4.554961</td>\n",
       "      <td>-4.121634</td>\n",
       "      <td>0.020884</td>\n",
       "      <td>100301.5625</td>\n",
       "      <td>100301.5703</td>\n",
       "      <td>...</td>\n",
       "      <td>270.293884</td>\n",
       "      <td>3.070000e-07</td>\n",
       "      <td>303.345520</td>\n",
       "      <td>300.637238</td>\n",
       "      <td>66.432320</td>\n",
       "      <td>12452.18262</td>\n",
       "      <td>66.431854</td>\n",
       "      <td>1</td>\n",
       "      <td>2002</td>\n",
       "      <td>02</td>\n",
       "    </tr>\n",
       "  </tbody>\n",
       "</table>\n",
       "<p>21120 rows × 21 columns</p>\n",
       "</div>"
      ],
      "text/plain": [
       "             lat       lon        TMQ       U850       V850       UBOT  \\\n",
       "0     -31.095176  353.1250   9.119848   1.598317   1.470260   0.810265   \n",
       "1     -31.095176  353.1250   9.498385   3.720647   7.738389   3.792771   \n",
       "2     -31.095176  353.1250   9.570622  -0.449374   4.436312  -1.916012   \n",
       "3     -31.095176  353.1250   9.863693  -7.730425  -0.918892  -7.793533   \n",
       "4     -31.095176  353.1250  10.451710  -7.256196  -3.592936  -8.562844   \n",
       "...          ...       ...        ...        ...        ...        ...   \n",
       "21115  24.054759  277.8125  57.796329  -6.420532  17.582048 -11.166381   \n",
       "21116  24.054759  277.8125  58.329323  -8.095085   6.572595 -13.351055   \n",
       "21117  24.054759  277.8125  58.517265  -4.785640   3.789390  -8.509462   \n",
       "21118  24.054759  277.8125  62.778736 -10.072424   4.102436 -12.268980   \n",
       "21119  24.054759  277.8125  67.582390  -3.965418  -5.013944  -4.554961   \n",
       "\n",
       "           VBOT    QREFHT           PS          PSL  ...        T500  \\\n",
       "0      2.363183  0.004364  102511.0156  102511.0156  ...  255.653427   \n",
       "1      7.983106  0.005686  102429.6016  102429.6016  ...  256.829498   \n",
       "2      5.904305  0.005256  102886.1641  102886.1641  ...  252.715546   \n",
       "3     -0.627037  0.005288  103979.4063  103979.4063  ...  252.840958   \n",
       "4     -0.678384  0.005993  103489.4609  103489.4609  ...  253.231186   \n",
       "...         ...       ...          ...          ...  ...         ...   \n",
       "21115  8.585260  0.020651  100927.5391  100927.5469  ...  267.621674   \n",
       "21116  9.610909  0.017898  100664.0234  100664.0313  ...  268.883240   \n",
       "21117  2.313743  0.021407  100948.1953  100948.1953  ...  269.230347   \n",
       "21118 -2.449703  0.020941  101060.1953  101060.2031  ...  267.739990   \n",
       "21119 -4.121634  0.020884  100301.5625  100301.5703  ...  270.293884   \n",
       "\n",
       "              PRECT          TS      TREFHT       Z1000         Z200  \\\n",
       "0      1.260000e-15  290.665344  286.344299  207.444214  11909.32422   \n",
       "1      0.000000e+00  291.421783  288.094391  202.014511  12044.68750   \n",
       "2      4.810000e-15  290.316620  286.040802  237.781067  11851.70801   \n",
       "3      1.150000e-13  290.339081  287.221649  326.891113  11988.68359   \n",
       "4      1.340000e-14  290.483887  287.476013  287.984039  11965.81445   \n",
       "...             ...         ...         ...         ...          ...   \n",
       "21115  2.080000e-07  301.819183  300.872101   82.221512  12414.16797   \n",
       "21116  4.600000e-08  302.160065  298.892578   65.812500  12429.91602   \n",
       "21117  8.800000e-08  303.307373  302.306854   84.499649  12492.16602   \n",
       "21118  4.550000e-07  302.993195  301.496399   94.111633  12432.50586   \n",
       "21119  3.070000e-07  303.345520  300.637238   66.432320  12452.18262   \n",
       "\n",
       "            ZBOT  Label  year month  \n",
       "0      62.648720      0  2003    10  \n",
       "1      63.036098      0  2003    10  \n",
       "2      62.586845      0  2003    10  \n",
       "3      62.845680      0  2003    10  \n",
       "4      62.924049      0  2003    10  \n",
       "...          ...    ...   ...   ...  \n",
       "21115  66.490471      1  2006    06  \n",
       "21116  65.812042      1  2002    02  \n",
       "21117  66.848801      0  2002    02  \n",
       "21118  66.610916      0  2002    02  \n",
       "21119  66.431854      1  2002    02  \n",
       "\n",
       "[21120 rows x 21 columns]"
      ]
     },
     "execution_count": 43,
     "metadata": {},
     "output_type": "execute_result"
    }
   ],
   "source": [
    "train_dropped_dups = time_features(train_dropped_dups)\n",
    "train_dropped_dups"
   ]
  },
  {
   "cell_type": "code",
   "execution_count": 44,
   "metadata": {},
   "outputs": [
    {
     "data": {
      "text/plain": [
       "<Axes: >"
      ]
     },
     "execution_count": 44,
     "metadata": {},
     "output_type": "execute_result"
    },
    {
     "data": {
      "image/png": "[encoded data removed]",
      "text/plain": [
       "<Figure size 640x480 with 2 Axes>"
      ]
     },
     "metadata": {},
     "output_type": "display_data"
    }
   ],
   "source": [
    "correlation = train_dropped_dups.corr()\n",
    "sns.heatmap(correlation, \n",
    "            xticklabels=correlation.columns,\n",
    "            yticklabels=correlation.columns)"
   ]
  },
  {
   "cell_type": "code",
   "execution_count": null,
   "metadata": {},
   "outputs": [],
   "source": []
  }
 ],
 "metadata": {
  "kernelspec": {
   "display_name": "Python 3",
   "language": "python",
   "name": "python3"
  },
  "language_info": {
   "codemirror_mode": {
    "name": "ipython",
    "version": 3
   },
   "file_extension": ".py",
   "mimetype": "text/x-python",
   "name": "python",
   "nbconvert_exporter": "python",
   "pygments_lexer": "ipython3",
   "version": "3.10.13"
  },
  "orig_nbformat": 4
 },
 "nbformat": 4,
 "nbformat_minor": 2
}
